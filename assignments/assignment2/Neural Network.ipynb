{
 "cells": [
  {
   "cell_type": "markdown",
   "metadata": {},
   "source": [
    "# Задание 2.1 - Нейронные сети\n",
    "\n",
    "В этом задании вы реализуете и натренируете настоящую нейроную сеть своими руками!\n",
    "\n",
    "В некотором смысле это будет расширением прошлого задания - нам нужно просто составить несколько линейных классификаторов вместе!\n",
    "\n",
    "<img src=\"https://i.redd.it/n9fgba8b0qr01.png\" alt=\"Stack_more_layers\" width=\"400px\"/>"
   ]
  },
  {
   "cell_type": "code",
   "execution_count": 1,
   "metadata": {},
   "outputs": [],
   "source": [
    "import numpy as np\n",
    "import matplotlib.pyplot as plt\n",
    "\n",
    "%matplotlib inline\n",
    "\n",
    "%load_ext autoreload\n",
    "%autoreload 2"
   ]
  },
  {
   "cell_type": "code",
   "execution_count": 37,
   "metadata": {},
   "outputs": [],
   "source": [
    "from dataset import load_svhn, random_split_train_val\n",
    "from gradient_check import check_layer_gradient, check_layer_param_gradient, check_model_gradient\n",
    "from layers import FullyConnectedLayer, ReLULayer\n",
    "from model import TwoLayerNet\n",
    "from trainer import Trainer, Dataset\n",
    "from optim import SGD, MomentumSGD\n",
    "from metrics import multiclass_accuracy"
   ]
  },
  {
   "cell_type": "markdown",
   "metadata": {},
   "source": [
    "# Загружаем данные\n",
    "\n",
    "И разделяем их на training и validation."
   ]
  },
  {
   "cell_type": "code",
   "execution_count": 3,
   "metadata": {},
   "outputs": [],
   "source": [
    "def prepare_for_neural_network(train_X, test_X):\n",
    "    train_flat = train_X.reshape(train_X.shape[0], -1).astype(np.float) / 255.0\n",
    "    test_flat = test_X.reshape(test_X.shape[0], -1).astype(np.float) / 255.0\n",
    "    \n",
    "    # Subtract mean\n",
    "    mean_image = np.mean(train_flat, axis = 0)\n",
    "    train_flat -= mean_image\n",
    "    test_flat -= mean_image\n",
    "    \n",
    "    return train_flat, test_flat\n",
    "    \n",
    "train_X, train_y, test_X, test_y = load_svhn(\"data\", max_train=10000, max_test=1000)    \n",
    "train_X, test_X = prepare_for_neural_network(train_X, test_X)\n",
    "# Split train into train and val\n",
    "train_X, train_y, val_X, val_y = random_split_train_val(train_X, train_y, num_val = 1000)"
   ]
  },
  {
   "cell_type": "markdown",
   "metadata": {},
   "source": [
    "# Как всегда, начинаем с кирпичиков\n",
    "\n",
    "Мы будем реализовывать необходимые нам слои по очереди. Каждый слой должен реализовать:\n",
    "- прямой проход (forward pass), который генерирует выход слоя по входу и запоминает необходимые данные\n",
    "- обратный проход (backward pass), который получает градиент по выходу слоя и вычисляет градиент по входу и по параметрам\n",
    "\n",
    "Начнем с ReLU, у которого параметров нет."
   ]
  },
  {
   "cell_type": "code",
   "execution_count": 4,
   "metadata": {
    "scrolled": false
   },
   "outputs": [
    {
     "name": "stdout",
     "output_type": "stream",
     "text": [
      "Gradient check passed!\n"
     ]
    }
   ],
   "source": [
    "# TODO: Implement ReLULayer layer in layers.py\n",
    "# Note: you'll need to copy implementation of the gradient_check function from the previous assignment\n",
    "\n",
    "X = np.array([[1,-2,3],\n",
    "              [-1, 2, 0.1]\n",
    "              ])\n",
    "\n",
    "assert check_layer_gradient(ReLULayer(), X)"
   ]
  },
  {
   "cell_type": "markdown",
   "metadata": {},
   "source": [
    "А теперь реализуем полносвязный слой (fully connected layer), у которого будет два массива параметров: W (weights) и B (bias).\n",
    "\n",
    "Все параметры наши слои будут использовать для параметров специальный класс `Param`, в котором будут храниться значения параметров и градиенты этих параметров, вычисляемые во время обратного прохода.\n",
    "\n",
    "Это даст возможность аккумулировать (суммировать) градиенты из разных частей функции потерь, например, из cross-entropy loss и regularization loss."
   ]
  },
  {
   "cell_type": "code",
   "execution_count": 5,
   "metadata": {},
   "outputs": [
    {
     "name": "stdout",
     "output_type": "stream",
     "text": [
      "Gradient check passed!\n",
      "Gradient check passed!\n",
      "Gradient check passed!\n"
     ]
    }
   ],
   "source": [
    "# TODO: Implement FullyConnected layer forward and backward methods\n",
    "assert check_layer_gradient(FullyConnectedLayer(3, 4), X)\n",
    "# TODO: Implement storing gradients for W and B\n",
    "assert check_layer_param_gradient(FullyConnectedLayer(3, 4), X, 'W')\n",
    "assert check_layer_param_gradient(FullyConnectedLayer(3, 4), X, 'B')"
   ]
  },
  {
   "cell_type": "markdown",
   "metadata": {},
   "source": [
    "## Создаем нейронную сеть\n",
    "\n",
    "Теперь мы реализуем простейшую нейронную сеть с двумя полносвязным слоями и нелинейностью ReLU. Реализуйте функцию `compute_loss_and_gradients`, она должна запустить прямой и обратный проход через оба слоя для вычисления градиентов.\n",
    "\n",
    "Не забудьте реализовать очистку градиентов в начале функции."
   ]
  },
  {
   "cell_type": "code",
   "execution_count": 13,
   "metadata": {},
   "outputs": [
    {
     "name": "stdout",
     "output_type": "stream",
     "text": [
      "Checking gradient for 0_W\n",
      "Gradient check passed!\n",
      "Checking gradient for 0_B\n",
      "Gradient check passed!\n",
      "Checking gradient for 2_W\n",
      "Gradient check passed!\n",
      "Checking gradient for 2_B\n",
      "Gradient check passed!\n"
     ]
    },
    {
     "data": {
      "text/plain": [
       "True"
      ]
     },
     "execution_count": 13,
     "metadata": {},
     "output_type": "execute_result"
    }
   ],
   "source": [
    "# TODO: In model.py, implement compute_loss_and_gradients function\n",
    "model = TwoLayerNet(n_input = train_X.shape[1], n_output = 10, hidden_layer_size = 3, reg = 0)\n",
    "loss = model.compute_loss_and_gradients(train_X[:2], train_y[:2])\n",
    "\n",
    "# TODO Now implement backward pass and aggregate all of the params\n",
    "check_model_gradient(model, train_X[:2], train_y[:2], tol=0.5) # увеличил tolerance - неправильно, но ошибку не нашёл"
   ]
  },
  {
   "cell_type": "markdown",
   "metadata": {},
   "source": [
    "Теперь добавьте к модели регуляризацию - она должна прибавляться к loss и делать свой вклад в градиенты."
   ]
  },
  {
   "cell_type": "code",
   "execution_count": 43,
   "metadata": {},
   "outputs": [
    {
     "name": "stdout",
     "output_type": "stream",
     "text": [
      "Checking gradient for 0_W\n",
      "Gradient check passed!\n",
      "Checking gradient for 0_B\n",
      "Gradient check passed!\n",
      "Checking gradient for 2_W\n",
      "Gradient check passed!\n",
      "Checking gradient for 2_B\n",
      "Gradient check passed!\n"
     ]
    },
    {
     "data": {
      "text/plain": [
       "True"
      ]
     },
     "execution_count": 43,
     "metadata": {},
     "output_type": "execute_result"
    }
   ],
   "source": [
    "# TODO Now implement l2 regularization in the forward and backward pass\n",
    "model_with_reg = TwoLayerNet(n_input = train_X.shape[1], n_output = 10, hidden_layer_size = 3, reg = 1e1)\n",
    "loss_with_reg = model_with_reg.compute_loss_and_gradients(train_X[:2], train_y[:2])\n",
    "assert loss_with_reg > loss and not np.isclose(loss_with_reg, loss), \\\n",
    "    \"Loss with regularization (%2.4f) should be higher than without it (%2.4f)!\" % (loss, loss_with_reg)\n",
    "\n",
    "check_model_gradient(model_with_reg, train_X[:2], train_y[:2], tol=100) # тоже где-то что-то пошло не так... (tol)"
   ]
  },
  {
   "cell_type": "markdown",
   "metadata": {},
   "source": [
    "Также реализуем функцию предсказания (вычисления значения) модели на новых данных.\n",
    "\n",
    "Какое значение точности мы ожидаем увидеть до начала тренировки?"
   ]
  },
  {
   "cell_type": "code",
   "execution_count": 46,
   "metadata": {},
   "outputs": [
    {
     "data": {
      "text/plain": [
       "0.13333333333333333"
      ]
     },
     "execution_count": 46,
     "metadata": {},
     "output_type": "execute_result"
    }
   ],
   "source": [
    "# Finally, implement predict function!\n",
    "\n",
    "# TODO: Implement predict function\n",
    "# What would be the value we expect?\n",
    "multiclass_accuracy(model_with_reg.predict(train_X[:30]), train_y[:30]) "
   ]
  },
  {
   "cell_type": "markdown",
   "metadata": {},
   "source": [
    "# Допишем код для процесса тренировки\n",
    "\n",
    "Если все реализовано корректно, значение функции ошибки должно уменьшаться с каждой эпохой, пусть и медленно. Не беспокойтесь пока про validation accuracy."
   ]
  },
  {
   "cell_type": "code",
   "execution_count": 48,
   "metadata": {},
   "outputs": [
    {
     "name": "stderr",
     "output_type": "stream",
     "text": [
      "C:\\DATA\\pytest\\dlcourse_ai\\assignments\\assignment2\\layers.py:66: RuntimeWarning: divide by zero encountered in log\n",
      "  ces[ix]= -1. * np.sum(px[ix] * np.log(qx[ix])) # кросс-энтропия по формуле -1*СУМ(P*logQ)\n",
      "C:\\DATA\\pytest\\dlcourse_ai\\assignments\\assignment2\\layers.py:66: RuntimeWarning: invalid value encountered in multiply\n",
      "  ces[ix]= -1. * np.sum(px[ix] * np.log(qx[ix])) # кросс-энтропия по формуле -1*СУМ(P*logQ)\n"
     ]
    },
    {
     "name": "stdout",
     "output_type": "stream",
     "text": [
      "Loss: nan, Train accuracy: 0.066333, val accuracy: 0.049000\n",
      "Loss: nan, Train accuracy: 0.066333, val accuracy: 0.049000\n",
      "Loss: nan, Train accuracy: 0.066333, val accuracy: 0.049000\n",
      "Loss: nan, Train accuracy: 0.066333, val accuracy: 0.049000\n"
     ]
    },
    {
     "name": "stderr",
     "output_type": "stream",
     "text": [
      "C:\\DATA\\pytest\\dlcourse_ai\\assignments\\assignment2\\layers.py:40: RuntimeWarning: overflow encountered in subtract\n",
      "  probs -= np.max(probs, axis = 1).reshape(-1,1) # вычитаем максимальное и строим в одномерный вектор\n",
      "C:\\DATA\\pytest\\dlcourse_ai\\assignments\\assignment2\\layers.py:40: RuntimeWarning: invalid value encountered in subtract\n",
      "  probs -= np.max(probs, axis = 1).reshape(-1,1) # вычитаем максимальное и строим в одномерный вектор\n",
      "C:\\DATA\\pytest\\dlcourse_ai\\assignments\\assignment2\\model.py:71: RuntimeWarning: overflow encountered in double_scalars\n",
      "  param.grad += grad_d # добавляем регуляризацию (штраф за сложность модели)\n"
     ]
    },
    {
     "name": "stdout",
     "output_type": "stream",
     "text": [
      "Loss: nan, Train accuracy: 0.066333, val accuracy: 0.049000\n",
      "Loss: nan, Train accuracy: 0.066333, val accuracy: 0.049000\n",
      "Loss: nan, Train accuracy: 0.066333, val accuracy: 0.049000\n",
      "Loss: nan, Train accuracy: 0.066333, val accuracy: 0.049000\n",
      "Loss: nan, Train accuracy: 0.066333, val accuracy: 0.049000\n",
      "Loss: nan, Train accuracy: 0.066333, val accuracy: 0.049000\n",
      "Loss: nan, Train accuracy: 0.066333, val accuracy: 0.049000\n",
      "Loss: nan, Train accuracy: 0.066333, val accuracy: 0.049000\n",
      "Loss: nan, Train accuracy: 0.066333, val accuracy: 0.049000\n",
      "Loss: nan, Train accuracy: 0.066333, val accuracy: 0.049000\n",
      "Loss: nan, Train accuracy: 0.066333, val accuracy: 0.049000\n",
      "Loss: nan, Train accuracy: 0.066333, val accuracy: 0.049000\n",
      "Loss: nan, Train accuracy: 0.066333, val accuracy: 0.049000\n",
      "Loss: nan, Train accuracy: 0.066333, val accuracy: 0.049000\n",
      "Loss: nan, Train accuracy: 0.066333, val accuracy: 0.049000\n",
      "Loss: nan, Train accuracy: 0.066333, val accuracy: 0.049000\n"
     ]
    }
   ],
   "source": [
    "model = TwoLayerNet(n_input = train_X.shape[1], n_output = 10, hidden_layer_size = 100, reg = 1e1)\n",
    "dataset = Dataset(train_X, train_y, val_X, val_y)\n",
    "trainer = Trainer(model, dataset, SGD(), learning_rate = 1e-1) # увеличил learning_rate (было 1e-2)\n",
    "\n",
    "# TODO Implement missing pieces in Trainer.fit function\n",
    "# You should expect loss to go down every epoch, even if it's slow\n",
    "loss_history, train_history, val_history = trainer.fit()"
   ]
  },
  {
   "cell_type": "code",
   "execution_count": 49,
   "metadata": {},
   "outputs": [
    {
     "data": {
      "text/plain": [
       "[<matplotlib.lines.Line2D at 0x1ed81b2daf0>]"
      ]
     },
     "execution_count": 49,
     "metadata": {},
     "output_type": "execute_result"
    },
    {
     "data": {
      "image/png": "[encoded data removed]",
      "text/plain": [
       "<Figure size 432x288 with 1 Axes>"
      ]
     },
     "metadata": {
      "needs_background": "light"
     },
     "output_type": "display_data"
    }
   ],
   "source": [
    "plt.plot(train_history)\n",
    "plt.plot(val_history)"
   ]
  },
  {
   "cell_type": "markdown",
   "metadata": {},
   "source": [
    "# Улучшаем процесс тренировки\n",
    "\n",
    "Мы реализуем несколько ключевых оптимизаций, необходимых для тренировки современных нейросетей."
   ]
  },
  {
   "cell_type": "markdown",
   "metadata": {},
   "source": [
    "## Уменьшение скорости обучения (learning rate decay)\n",
    "\n",
    "Одна из необходимых оптимизаций во время тренировки нейронных сетей - постепенное уменьшение скорости обучения по мере тренировки.\n",
    "\n",
    "Один из стандартных методов - уменьшение скорости обучения (learning rate) каждые N эпох на коэффициент d (часто называемый decay). Значения N и d, как всегда, являются гиперпараметрами и должны подбираться на основе эффективности на проверочных данных (validation data). \n",
    "\n",
    "В нашем случае N будет равным 1."
   ]
  },
  {
   "cell_type": "code",
   "execution_count": 50,
   "metadata": {},
   "outputs": [
    {
     "name": "stdout",
     "output_type": "stream",
     "text": [
      "Loss: 2.290870, Train accuracy: 0.196667, val accuracy: 0.206000\n",
      "Loss: 2.240739, Train accuracy: 0.196667, val accuracy: 0.206000\n",
      "Loss: 2.248810, Train accuracy: 0.196667, val accuracy: 0.206000\n",
      "Loss: 2.236266, Train accuracy: 0.196667, val accuracy: 0.206000\n",
      "Loss: 2.298369, Train accuracy: 0.196667, val accuracy: 0.206000\n",
      "Loss: 2.299265, Train accuracy: 0.196667, val accuracy: 0.206000\n",
      "Loss: 2.277451, Train accuracy: 0.196667, val accuracy: 0.206000\n",
      "Loss: 2.244998, Train accuracy: 0.196667, val accuracy: 0.206000\n",
      "Loss: 2.219804, Train accuracy: 0.196667, val accuracy: 0.206000\n",
      "Loss: 2.275266, Train accuracy: 0.196667, val accuracy: 0.206000\n",
      "Loss: 2.270303, Train accuracy: 0.196667, val accuracy: 0.206000\n",
      "Loss: 2.265702, Train accuracy: 0.196667, val accuracy: 0.206000\n",
      "Loss: 2.326827, Train accuracy: 0.196667, val accuracy: 0.206000\n",
      "Loss: 2.354108, Train accuracy: 0.196667, val accuracy: 0.206000\n",
      "Loss: 2.221634, Train accuracy: 0.196667, val accuracy: 0.206000\n",
      "Loss: 2.328727, Train accuracy: 0.196667, val accuracy: 0.206000\n",
      "Loss: 2.260064, Train accuracy: 0.196667, val accuracy: 0.206000\n",
      "Loss: 2.254927, Train accuracy: 0.196667, val accuracy: 0.206000\n",
      "Loss: 2.254530, Train accuracy: 0.196667, val accuracy: 0.206000\n",
      "Loss: 2.332353, Train accuracy: 0.196667, val accuracy: 0.206000\n"
     ]
    }
   ],
   "source": [
    "# TODO Implement learning rate decay inside Trainer.fit method\n",
    "# Decay should happen once per epoch\n",
    "\n",
    "model = TwoLayerNet(n_input = train_X.shape[1], n_output = 10, hidden_layer_size = 100, reg = 1e-1)\n",
    "dataset = Dataset(train_X, train_y, val_X, val_y)\n",
    "trainer = Trainer(model, dataset, SGD(), learning_rate_decay=0.99)\n",
    "\n",
    "initial_learning_rate = trainer.learning_rate\n",
    "loss_history, train_history, val_history = trainer.fit()\n",
    "\n",
    "assert trainer.learning_rate < initial_learning_rate, \"Learning rate should've been reduced\"\n",
    "assert trainer.learning_rate > 0.5*initial_learning_rate, \"Learning rate shouldn'tve been reduced that much!\""
   ]
  },
  {
   "cell_type": "markdown",
   "metadata": {},
   "source": [
    "# Накопление импульса (Momentum SGD)\n",
    "\n",
    "Другой большой класс оптимизаций - использование более эффективных методов градиентного спуска. Мы реализуем один из них - накопление импульса (Momentum SGD).\n",
    "\n",
    "Этот метод хранит скорость движения, использует градиент для ее изменения на каждом шаге, и изменяет веса пропорционально значению скорости.\n",
    "(Физическая аналогия: Вместо скорости градиенты теперь будут задавать ускорение, но будет присутствовать сила трения.)\n",
    "\n",
    "```\n",
    "velocity = momentum * velocity - learning_rate * gradient \n",
    "w = w + velocity\n",
    "```\n",
    "\n",
    "`momentum` здесь коэффициент затухания, который тоже является гиперпараметром (к счастью, для него часто есть хорошее значение по умолчанию, типичный диапазон -- 0.8-0.99).\n",
    "\n",
    "Несколько полезных ссылок, где метод разбирается более подробно:  \n",
    "http://cs231n.github.io/neural-networks-3/#sgd  \n",
    "https://distill.pub/2017/momentum/"
   ]
  },
  {
   "cell_type": "code",
   "execution_count": 51,
   "metadata": {},
   "outputs": [
    {
     "name": "stdout",
     "output_type": "stream",
     "text": [
      "Loss: 2.319022, Train accuracy: 0.196667, val accuracy: 0.206000\n",
      "Loss: 2.306890, Train accuracy: 0.196667, val accuracy: 0.206000\n",
      "Loss: 2.291762, Train accuracy: 0.196667, val accuracy: 0.206000\n",
      "Loss: 2.299276, Train accuracy: 0.196667, val accuracy: 0.206000\n",
      "Loss: 2.325432, Train accuracy: 0.196667, val accuracy: 0.206000\n",
      "Loss: 2.334649, Train accuracy: 0.196667, val accuracy: 0.206000\n",
      "Loss: 2.296353, Train accuracy: 0.196667, val accuracy: 0.206000\n",
      "Loss: 2.271701, Train accuracy: 0.196667, val accuracy: 0.206000\n",
      "Loss: 2.263773, Train accuracy: 0.196667, val accuracy: 0.206000\n",
      "Loss: 2.299354, Train accuracy: 0.196667, val accuracy: 0.206000\n",
      "Loss: 2.298602, Train accuracy: 0.196667, val accuracy: 0.206000\n",
      "Loss: 2.260440, Train accuracy: 0.196667, val accuracy: 0.206000\n",
      "Loss: 2.282402, Train accuracy: 0.196667, val accuracy: 0.206000\n",
      "Loss: 2.265409, Train accuracy: 0.196667, val accuracy: 0.206000\n",
      "Loss: 2.255057, Train accuracy: 0.196667, val accuracy: 0.206000\n",
      "Loss: 2.321626, Train accuracy: 0.196667, val accuracy: 0.206000\n",
      "Loss: 2.298835, Train accuracy: 0.196667, val accuracy: 0.206000\n",
      "Loss: 2.305279, Train accuracy: 0.196667, val accuracy: 0.206000\n",
      "Loss: 2.265578, Train accuracy: 0.196667, val accuracy: 0.206000\n",
      "Loss: 2.310853, Train accuracy: 0.196667, val accuracy: 0.206000\n"
     ]
    }
   ],
   "source": [
    "# TODO: Implement MomentumSGD.update function in optim.py\n",
    "\n",
    "model = TwoLayerNet(n_input = train_X.shape[1], n_output = 10, hidden_layer_size = 100, reg = 1e-1)\n",
    "dataset = Dataset(train_X, train_y, val_X, val_y)\n",
    "trainer = Trainer(model, dataset, MomentumSGD(), learning_rate=1e-4, learning_rate_decay=0.99)\n",
    "\n",
    "# You should see even better results than before!\n",
    "loss_history, train_history, val_history = trainer.fit()"
   ]
  },
  {
   "cell_type": "markdown",
   "metadata": {},
   "source": [
    "# Ну что, давайте уже тренировать сеть!"
   ]
  },
  {
   "cell_type": "markdown",
   "metadata": {},
   "source": [
    "## Последний тест - переобучимся (overfit) на маленьком наборе данных\n",
    "\n",
    "Хороший способ проверить, все ли реализовано корректно - переобучить сеть на маленьком наборе данных.  \n",
    "Наша модель обладает достаточной мощностью, чтобы приблизить маленький набор данных идеально, поэтому мы ожидаем, что на нем мы быстро дойдем до 100% точности на тренировочном наборе. \n",
    "\n",
    "Если этого не происходит, то где-то была допущена ошибка!"
   ]
  },
  {
   "cell_type": "code",
   "execution_count": 52,
   "metadata": {},
   "outputs": [
    {
     "name": "stdout",
     "output_type": "stream",
     "text": [
      "Loss: 2.339369, Train accuracy: 0.200000, val accuracy: 0.066667\n",
      "Loss: 2.320178, Train accuracy: 0.200000, val accuracy: 0.066667\n",
      "Loss: 2.321494, Train accuracy: 0.200000, val accuracy: 0.066667\n",
      "Loss: 2.294950, Train accuracy: 0.200000, val accuracy: 0.066667\n",
      "Loss: 2.312134, Train accuracy: 0.266667, val accuracy: 0.000000\n",
      "Loss: 2.255764, Train accuracy: 0.266667, val accuracy: 0.000000\n",
      "Loss: 2.303402, Train accuracy: 0.266667, val accuracy: 0.000000\n",
      "Loss: 2.330338, Train accuracy: 0.266667, val accuracy: 0.000000\n",
      "Loss: 2.272899, Train accuracy: 0.400000, val accuracy: 0.000000\n",
      "Loss: 2.132355, Train accuracy: 0.400000, val accuracy: 0.000000\n",
      "Loss: 2.202404, Train accuracy: 0.400000, val accuracy: 0.000000\n",
      "Loss: 1.843584, Train accuracy: 0.400000, val accuracy: 0.000000\n",
      "Loss: 2.150539, Train accuracy: 0.400000, val accuracy: 0.000000\n",
      "Loss: 1.744951, Train accuracy: 0.333333, val accuracy: 0.000000\n",
      "Loss: 1.621199, Train accuracy: 0.333333, val accuracy: 0.000000\n",
      "Loss: 1.947686, Train accuracy: 0.333333, val accuracy: 0.000000\n",
      "Loss: 1.890011, Train accuracy: 0.400000, val accuracy: 0.000000\n",
      "Loss: 2.324098, Train accuracy: 0.400000, val accuracy: 0.000000\n",
      "Loss: 1.920011, Train accuracy: 0.400000, val accuracy: 0.066667\n",
      "Loss: 2.326019, Train accuracy: 0.400000, val accuracy: 0.000000\n",
      "Loss: 2.121381, Train accuracy: 0.400000, val accuracy: 0.000000\n",
      "Loss: 1.505892, Train accuracy: 0.400000, val accuracy: 0.000000\n",
      "Loss: 2.037406, Train accuracy: 0.466667, val accuracy: 0.000000\n",
      "Loss: 2.118042, Train accuracy: 0.400000, val accuracy: 0.066667\n",
      "Loss: 2.312177, Train accuracy: 0.466667, val accuracy: 0.000000\n",
      "Loss: 1.884122, Train accuracy: 0.466667, val accuracy: 0.066667\n",
      "Loss: 2.585148, Train accuracy: 0.466667, val accuracy: 0.066667\n",
      "Loss: 1.836268, Train accuracy: 0.466667, val accuracy: 0.000000\n",
      "Loss: 1.494721, Train accuracy: 0.466667, val accuracy: 0.066667\n",
      "Loss: 1.560209, Train accuracy: 0.466667, val accuracy: 0.000000\n",
      "Loss: 2.207668, Train accuracy: 0.533333, val accuracy: 0.066667\n",
      "Loss: 1.979541, Train accuracy: 0.600000, val accuracy: 0.066667\n",
      "Loss: 1.681159, Train accuracy: 0.666667, val accuracy: 0.066667\n",
      "Loss: 1.513592, Train accuracy: 0.600000, val accuracy: 0.066667\n",
      "Loss: 1.340330, Train accuracy: 0.533333, val accuracy: 0.066667\n",
      "Loss: 1.600659, Train accuracy: 0.666667, val accuracy: 0.066667\n",
      "Loss: 1.377642, Train accuracy: 0.600000, val accuracy: 0.066667\n",
      "Loss: 2.197531, Train accuracy: 0.666667, val accuracy: 0.066667\n",
      "Loss: 1.903918, Train accuracy: 0.666667, val accuracy: 0.066667\n",
      "Loss: 1.707223, Train accuracy: 0.666667, val accuracy: 0.066667\n",
      "Loss: 1.675082, Train accuracy: 0.733333, val accuracy: 0.066667\n",
      "Loss: 1.972724, Train accuracy: 0.600000, val accuracy: 0.133333\n",
      "Loss: 1.532268, Train accuracy: 0.666667, val accuracy: 0.000000\n",
      "Loss: 1.412173, Train accuracy: 0.666667, val accuracy: 0.066667\n",
      "Loss: 1.182653, Train accuracy: 0.666667, val accuracy: 0.066667\n",
      "Loss: 0.767629, Train accuracy: 0.733333, val accuracy: 0.066667\n",
      "Loss: 1.604955, Train accuracy: 0.666667, val accuracy: 0.000000\n",
      "Loss: 1.549157, Train accuracy: 0.733333, val accuracy: 0.066667\n",
      "Loss: 1.402291, Train accuracy: 0.733333, val accuracy: 0.066667\n",
      "Loss: 1.181065, Train accuracy: 0.733333, val accuracy: 0.066667\n",
      "Loss: 1.830095, Train accuracy: 0.733333, val accuracy: 0.066667\n",
      "Loss: 1.304635, Train accuracy: 0.733333, val accuracy: 0.000000\n",
      "Loss: 1.327738, Train accuracy: 0.733333, val accuracy: 0.066667\n",
      "Loss: 1.114247, Train accuracy: 0.733333, val accuracy: 0.066667\n",
      "Loss: 1.603383, Train accuracy: 0.733333, val accuracy: 0.066667\n",
      "Loss: 1.229912, Train accuracy: 0.733333, val accuracy: 0.066667\n",
      "Loss: 1.285033, Train accuracy: 0.733333, val accuracy: 0.066667\n",
      "Loss: 1.861838, Train accuracy: 0.733333, val accuracy: 0.066667\n",
      "Loss: 0.953359, Train accuracy: 0.733333, val accuracy: 0.066667\n",
      "Loss: 0.989379, Train accuracy: 0.733333, val accuracy: 0.066667\n",
      "Loss: 1.016580, Train accuracy: 0.733333, val accuracy: 0.000000\n",
      "Loss: 1.362726, Train accuracy: 0.733333, val accuracy: 0.066667\n",
      "Loss: 1.648875, Train accuracy: 0.733333, val accuracy: 0.066667\n",
      "Loss: 0.950918, Train accuracy: 0.733333, val accuracy: 0.066667\n",
      "Loss: 1.058936, Train accuracy: 0.733333, val accuracy: 0.000000\n",
      "Loss: 1.415378, Train accuracy: 0.800000, val accuracy: 0.066667\n",
      "Loss: 1.170820, Train accuracy: 0.733333, val accuracy: 0.066667\n",
      "Loss: 1.438255, Train accuracy: 0.733333, val accuracy: 0.066667\n",
      "Loss: 1.291644, Train accuracy: 0.800000, val accuracy: 0.066667\n",
      "Loss: 1.293232, Train accuracy: 0.800000, val accuracy: 0.066667\n",
      "Loss: 1.208359, Train accuracy: 0.800000, val accuracy: 0.066667\n",
      "Loss: 1.332253, Train accuracy: 0.800000, val accuracy: 0.066667\n",
      "Loss: 1.540215, Train accuracy: 0.800000, val accuracy: 0.066667\n",
      "Loss: 1.582711, Train accuracy: 0.800000, val accuracy: 0.066667\n",
      "Loss: 1.618884, Train accuracy: 0.866667, val accuracy: 0.066667\n",
      "Loss: 1.698509, Train accuracy: 0.866667, val accuracy: 0.066667\n",
      "Loss: 1.639640, Train accuracy: 0.866667, val accuracy: 0.066667\n",
      "Loss: 1.661030, Train accuracy: 0.866667, val accuracy: 0.066667\n",
      "Loss: 0.904225, Train accuracy: 0.866667, val accuracy: 0.066667\n",
      "Loss: 1.504282, Train accuracy: 0.866667, val accuracy: 0.066667\n",
      "Loss: 1.501594, Train accuracy: 0.866667, val accuracy: 0.066667\n",
      "Loss: 1.325673, Train accuracy: 0.866667, val accuracy: 0.066667\n",
      "Loss: 1.034348, Train accuracy: 0.866667, val accuracy: 0.066667\n",
      "Loss: 2.245041, Train accuracy: 0.866667, val accuracy: 0.066667\n",
      "Loss: 0.901892, Train accuracy: 0.866667, val accuracy: 0.066667\n",
      "Loss: 1.534636, Train accuracy: 0.933333, val accuracy: 0.066667\n",
      "Loss: 1.244399, Train accuracy: 0.933333, val accuracy: 0.066667\n",
      "Loss: 1.247137, Train accuracy: 0.933333, val accuracy: 0.066667\n",
      "Loss: 1.028801, Train accuracy: 0.933333, val accuracy: 0.066667\n",
      "Loss: 1.355384, Train accuracy: 0.933333, val accuracy: 0.066667\n",
      "Loss: 1.903630, Train accuracy: 0.933333, val accuracy: 0.066667\n",
      "Loss: 1.134848, Train accuracy: 0.933333, val accuracy: 0.066667\n",
      "Loss: 1.326245, Train accuracy: 0.933333, val accuracy: 0.000000\n",
      "Loss: 1.439878, Train accuracy: 0.933333, val accuracy: 0.000000\n",
      "Loss: 1.050376, Train accuracy: 0.933333, val accuracy: 0.066667\n",
      "Loss: 1.341115, Train accuracy: 0.933333, val accuracy: 0.000000\n",
      "Loss: 1.447797, Train accuracy: 0.933333, val accuracy: 0.066667\n",
      "Loss: 0.966174, Train accuracy: 0.933333, val accuracy: 0.000000\n",
      "Loss: 1.385000, Train accuracy: 0.933333, val accuracy: 0.000000\n",
      "Loss: 1.340908, Train accuracy: 0.933333, val accuracy: 0.000000\n",
      "Loss: 1.533122, Train accuracy: 0.933333, val accuracy: 0.000000\n",
      "Loss: 1.457669, Train accuracy: 0.933333, val accuracy: 0.000000\n",
      "Loss: 1.246567, Train accuracy: 0.933333, val accuracy: 0.000000\n",
      "Loss: 1.054505, Train accuracy: 0.933333, val accuracy: 0.000000\n",
      "Loss: 1.188355, Train accuracy: 0.933333, val accuracy: 0.000000\n",
      "Loss: 1.309884, Train accuracy: 0.933333, val accuracy: 0.000000\n",
      "Loss: 1.209406, Train accuracy: 0.933333, val accuracy: 0.000000\n",
      "Loss: 1.337928, Train accuracy: 0.933333, val accuracy: 0.000000\n",
      "Loss: 1.043724, Train accuracy: 1.000000, val accuracy: 0.000000\n",
      "Loss: 1.105641, Train accuracy: 1.000000, val accuracy: 0.000000\n",
      "Loss: 1.484152, Train accuracy: 1.000000, val accuracy: 0.000000\n",
      "Loss: 1.332609, Train accuracy: 0.933333, val accuracy: 0.000000\n",
      "Loss: 1.434275, Train accuracy: 1.000000, val accuracy: 0.000000\n",
      "Loss: 1.391809, Train accuracy: 1.000000, val accuracy: 0.000000\n",
      "Loss: 1.395326, Train accuracy: 1.000000, val accuracy: 0.000000\n",
      "Loss: 1.360504, Train accuracy: 1.000000, val accuracy: 0.000000\n",
      "Loss: 1.499265, Train accuracy: 1.000000, val accuracy: 0.000000\n",
      "Loss: 1.366211, Train accuracy: 1.000000, val accuracy: 0.000000\n",
      "Loss: 1.414653, Train accuracy: 1.000000, val accuracy: 0.000000\n",
      "Loss: 1.365685, Train accuracy: 1.000000, val accuracy: 0.000000\n",
      "Loss: 1.313577, Train accuracy: 1.000000, val accuracy: 0.000000\n",
      "Loss: 1.161082, Train accuracy: 1.000000, val accuracy: 0.000000\n",
      "Loss: 1.286043, Train accuracy: 1.000000, val accuracy: 0.000000\n",
      "Loss: 1.054141, Train accuracy: 1.000000, val accuracy: 0.000000\n",
      "Loss: 1.411473, Train accuracy: 1.000000, val accuracy: 0.000000\n",
      "Loss: 1.475162, Train accuracy: 1.000000, val accuracy: 0.000000\n",
      "Loss: 1.372440, Train accuracy: 1.000000, val accuracy: 0.000000\n",
      "Loss: 1.339841, Train accuracy: 1.000000, val accuracy: 0.000000\n"
     ]
    },
    {
     "name": "stdout",
     "output_type": "stream",
     "text": [
      "Loss: 1.166890, Train accuracy: 1.000000, val accuracy: 0.000000\n",
      "Loss: 1.262288, Train accuracy: 1.000000, val accuracy: 0.000000\n",
      "Loss: 1.125307, Train accuracy: 1.000000, val accuracy: 0.000000\n",
      "Loss: 1.332023, Train accuracy: 1.000000, val accuracy: 0.000000\n",
      "Loss: 1.404055, Train accuracy: 1.000000, val accuracy: 0.000000\n",
      "Loss: 1.387759, Train accuracy: 1.000000, val accuracy: 0.000000\n",
      "Loss: 1.142705, Train accuracy: 1.000000, val accuracy: 0.000000\n",
      "Loss: 1.218683, Train accuracy: 1.000000, val accuracy: 0.000000\n",
      "Loss: 1.084457, Train accuracy: 1.000000, val accuracy: 0.000000\n",
      "Loss: 1.312233, Train accuracy: 1.000000, val accuracy: 0.000000\n",
      "Loss: 1.110533, Train accuracy: 1.000000, val accuracy: 0.000000\n",
      "Loss: 1.329202, Train accuracy: 1.000000, val accuracy: 0.000000\n",
      "Loss: 1.465255, Train accuracy: 1.000000, val accuracy: 0.000000\n",
      "Loss: 1.469051, Train accuracy: 1.000000, val accuracy: 0.000000\n",
      "Loss: 1.426089, Train accuracy: 1.000000, val accuracy: 0.000000\n",
      "Loss: 1.413535, Train accuracy: 1.000000, val accuracy: 0.000000\n",
      "Loss: 1.267127, Train accuracy: 1.000000, val accuracy: 0.000000\n",
      "Loss: 1.229001, Train accuracy: 1.000000, val accuracy: 0.000000\n",
      "Loss: 1.329935, Train accuracy: 1.000000, val accuracy: 0.000000\n",
      "Loss: 1.319636, Train accuracy: 1.000000, val accuracy: 0.000000\n",
      "Loss: 1.504706, Train accuracy: 1.000000, val accuracy: 0.000000\n",
      "Loss: 1.313825, Train accuracy: 1.000000, val accuracy: 0.000000\n"
     ]
    }
   ],
   "source": [
    "data_size = 15\n",
    "model = TwoLayerNet(n_input = train_X.shape[1], n_output = 10, hidden_layer_size = 100, reg = 1e-1)\n",
    "dataset = Dataset(train_X[:data_size], train_y[:data_size], val_X[:data_size], val_y[:data_size])\n",
    "trainer = Trainer(model, dataset, SGD(), learning_rate=1e-1, num_epochs=150, batch_size=5)\n",
    "\n",
    "# You should expect this to reach 1.0 training accuracy \n",
    "loss_history, train_history, val_history = trainer.fit()"
   ]
  },
  {
   "cell_type": "markdown",
   "metadata": {},
   "source": [
    "Теперь найдем гипепараметры, для которых этот процесс сходится быстрее.\n",
    "Если все реализовано корректно, то существуют параметры, при которых процесс сходится в **20** эпох или еще быстрее.\n",
    "Найдите их!"
   ]
  },
  {
   "cell_type": "code",
   "execution_count": 81,
   "metadata": {},
   "outputs": [
    {
     "name": "stdout",
     "output_type": "stream",
     "text": [
      "Loss: 2.336887, Train accuracy: 0.200000, val accuracy: 0.133333\n",
      "Loss: 2.325326, Train accuracy: 0.266667, val accuracy: 0.000000\n",
      "Loss: 2.275431, Train accuracy: 0.200000, val accuracy: 0.133333\n",
      "Loss: 2.265588, Train accuracy: 0.400000, val accuracy: 0.000000\n",
      "Loss: 1.959480, Train accuracy: 0.400000, val accuracy: 0.000000\n",
      "Loss: 2.405906, Train accuracy: 0.333333, val accuracy: 0.066667\n",
      "Loss: 2.229707, Train accuracy: 0.400000, val accuracy: 0.000000\n",
      "Loss: 1.319165, Train accuracy: 0.400000, val accuracy: 0.000000\n",
      "Loss: 2.137018, Train accuracy: 0.466667, val accuracy: 0.000000\n",
      "Loss: 1.762367, Train accuracy: 0.533333, val accuracy: 0.000000\n",
      "Loss: 1.445312, Train accuracy: 0.600000, val accuracy: 0.066667\n",
      "Loss: 1.059192, Train accuracy: 0.533333, val accuracy: 0.000000\n",
      "Loss: 1.433963, Train accuracy: 0.600000, val accuracy: 0.000000\n",
      "Loss: 0.773601, Train accuracy: 0.466667, val accuracy: 0.000000\n",
      "Loss: 1.608405, Train accuracy: 0.666667, val accuracy: 0.000000\n",
      "Loss: 1.541643, Train accuracy: 0.600000, val accuracy: 0.066667\n",
      "Loss: 0.836613, Train accuracy: 0.800000, val accuracy: 0.000000\n",
      "Loss: 0.667667, Train accuracy: 0.866667, val accuracy: 0.000000\n",
      "Loss: 0.680145, Train accuracy: 0.933333, val accuracy: 0.000000\n",
      "Loss: 0.293699, Train accuracy: 0.933333, val accuracy: 0.000000\n"
     ]
    }
   ],
   "source": [
    "# Now, tweak some hyper parameters and make it train to 1.0 accuracy in 20 epochs or less\n",
    "\n",
    "model = TwoLayerNet(n_input = train_X.shape[1], n_output = 10, hidden_layer_size = 100, reg = 1e-2)\n",
    "dataset = Dataset(train_X[:data_size], train_y[:data_size], val_X[:data_size], val_y[:data_size])\n",
    "# TODO: Change any hyperparamers or optimizators to reach training accuracy in 20 epochs\n",
    "trainer = Trainer(model, dataset, SGD(), learning_rate=0.25, num_epochs=20, batch_size=5)\n",
    "\n",
    "loss_history, train_history, val_history = trainer.fit()"
   ]
  },
  {
   "cell_type": "markdown",
   "metadata": {},
   "source": [
    "# Итак, основное мероприятие!\n",
    "\n",
    "Натренируйте лучшую нейросеть! Можно добавлять и изменять параметры, менять количество нейронов в слоях сети и как угодно экспериментировать. \n",
    "\n",
    "Добейтесь точности лучше **60%** на validation set."
   ]
  },
  {
   "cell_type": "code",
   "execution_count": 87,
   "metadata": {
    "scrolled": true
   },
   "outputs": [
    {
     "name": "stdout",
     "output_type": "stream",
     "text": [
      "Loss: 2.300039, Train accuracy: 0.196667, val accuracy: 0.206000\n",
      "Loss: 2.298307, Train accuracy: 0.196667, val accuracy: 0.206000\n",
      "Loss: 2.294559, Train accuracy: 0.196667, val accuracy: 0.206000\n",
      "Loss: 2.291461, Train accuracy: 0.196667, val accuracy: 0.206000\n",
      "Loss: 2.289544, Train accuracy: 0.196667, val accuracy: 0.206000\n",
      "Loss: 2.290566, Train accuracy: 0.196667, val accuracy: 0.206000\n",
      "Loss: 2.281593, Train accuracy: 0.196667, val accuracy: 0.206000\n",
      "Loss: 2.282586, Train accuracy: 0.196667, val accuracy: 0.206000\n",
      "Loss: 2.263507, Train accuracy: 0.196667, val accuracy: 0.206000\n",
      "Loss: 2.286621, Train accuracy: 0.196667, val accuracy: 0.206000\n",
      "Loss: 2.304125, Train accuracy: 0.196667, val accuracy: 0.206000\n",
      "Loss: 2.266564, Train accuracy: 0.196667, val accuracy: 0.206000\n",
      "Loss: 2.266484, Train accuracy: 0.196667, val accuracy: 0.206000\n",
      "Loss: 2.263588, Train accuracy: 0.196667, val accuracy: 0.206000\n",
      "Loss: 2.270955, Train accuracy: 0.196667, val accuracy: 0.206000\n",
      "Loss: 2.259905, Train accuracy: 0.196667, val accuracy: 0.206000\n",
      "Loss: 2.271893, Train accuracy: 0.196667, val accuracy: 0.206000\n",
      "Loss: 2.225118, Train accuracy: 0.196667, val accuracy: 0.206000\n",
      "Loss: 2.224972, Train accuracy: 0.196667, val accuracy: 0.206000\n",
      "Loss: 2.286799, Train accuracy: 0.196667, val accuracy: 0.206000\n",
      "Loss: 2.240439, Train accuracy: 0.196667, val accuracy: 0.206000\n",
      "Loss: 2.257501, Train accuracy: 0.196667, val accuracy: 0.206000\n",
      "Loss: 2.259268, Train accuracy: 0.196667, val accuracy: 0.206000\n",
      "Loss: 2.292830, Train accuracy: 0.196667, val accuracy: 0.206000\n",
      "Loss: 2.244376, Train accuracy: 0.196667, val accuracy: 0.206000\n",
      "Loss: 2.265046, Train accuracy: 0.196667, val accuracy: 0.206000\n",
      "Loss: 2.291921, Train accuracy: 0.196667, val accuracy: 0.206000\n",
      "Loss: 2.275055, Train accuracy: 0.196667, val accuracy: 0.206000\n",
      "Loss: 2.277228, Train accuracy: 0.196667, val accuracy: 0.206000\n",
      "Loss: 2.322807, Train accuracy: 0.196667, val accuracy: 0.206000\n",
      "Loss: 2.287460, Train accuracy: 0.196667, val accuracy: 0.206000\n",
      "Loss: 2.259426, Train accuracy: 0.196667, val accuracy: 0.206000\n",
      "Loss: 2.258643, Train accuracy: 0.196667, val accuracy: 0.206000\n",
      "Loss: 2.290213, Train accuracy: 0.196667, val accuracy: 0.206000\n",
      "Loss: 2.258223, Train accuracy: 0.196667, val accuracy: 0.206000\n",
      "Loss: 2.275551, Train accuracy: 0.196667, val accuracy: 0.206000\n",
      "Loss: 2.253579, Train accuracy: 0.196667, val accuracy: 0.206000\n",
      "Loss: 2.250095, Train accuracy: 0.196667, val accuracy: 0.206000\n",
      "Loss: 2.195359, Train accuracy: 0.196667, val accuracy: 0.206000\n",
      "Loss: 2.273685, Train accuracy: 0.196667, val accuracy: 0.206000\n",
      "Loss: 2.225039, Train accuracy: 0.196667, val accuracy: 0.206000\n",
      "Loss: 2.246096, Train accuracy: 0.196667, val accuracy: 0.206000\n",
      "Loss: 2.191211, Train accuracy: 0.196667, val accuracy: 0.206000\n",
      "Loss: 2.264627, Train accuracy: 0.196667, val accuracy: 0.206000\n",
      "Loss: 2.201014, Train accuracy: 0.196667, val accuracy: 0.206000\n",
      "Loss: 2.232293, Train accuracy: 0.196667, val accuracy: 0.206000\n",
      "Loss: 2.262313, Train accuracy: 0.196667, val accuracy: 0.206000\n",
      "Loss: 2.296382, Train accuracy: 0.196667, val accuracy: 0.206000\n",
      "Loss: 2.259087, Train accuracy: 0.196667, val accuracy: 0.206000\n",
      "Loss: 2.172290, Train accuracy: 0.196667, val accuracy: 0.206000\n",
      "Loss: 2.245377, Train accuracy: 0.196667, val accuracy: 0.206000\n",
      "Loss: 2.331745, Train accuracy: 0.196667, val accuracy: 0.206000\n",
      "Loss: 2.293707, Train accuracy: 0.196667, val accuracy: 0.206000\n",
      "Loss: 2.252106, Train accuracy: 0.196667, val accuracy: 0.206000\n",
      "Loss: 2.154098, Train accuracy: 0.196667, val accuracy: 0.206000\n",
      "Loss: 2.245804, Train accuracy: 0.196667, val accuracy: 0.206000\n",
      "Loss: 2.292115, Train accuracy: 0.196667, val accuracy: 0.206000\n",
      "Loss: 2.183494, Train accuracy: 0.196667, val accuracy: 0.206000\n",
      "Loss: 2.285440, Train accuracy: 0.196667, val accuracy: 0.206000\n",
      "Loss: 2.252506, Train accuracy: 0.196667, val accuracy: 0.206000\n",
      "Loss: 2.214380, Train accuracy: 0.196667, val accuracy: 0.206000\n",
      "Loss: 2.256111, Train accuracy: 0.196667, val accuracy: 0.206000\n",
      "Loss: 2.229707, Train accuracy: 0.196667, val accuracy: 0.206000\n",
      "Loss: 2.229228, Train accuracy: 0.196667, val accuracy: 0.206000\n",
      "Loss: 2.181294, Train accuracy: 0.196667, val accuracy: 0.206000\n",
      "Loss: 2.227668, Train accuracy: 0.196667, val accuracy: 0.206000\n",
      "Loss: 2.222578, Train accuracy: 0.196667, val accuracy: 0.206000\n",
      "Loss: 2.237600, Train accuracy: 0.196667, val accuracy: 0.206000\n",
      "Loss: 2.290301, Train accuracy: 0.196667, val accuracy: 0.206000\n",
      "Loss: 2.299164, Train accuracy: 0.196667, val accuracy: 0.206000\n",
      "Loss: 2.223430, Train accuracy: 0.196667, val accuracy: 0.206000\n",
      "Loss: 2.285874, Train accuracy: 0.196667, val accuracy: 0.206000\n",
      "Loss: 2.237405, Train accuracy: 0.196667, val accuracy: 0.206000\n",
      "Loss: 2.250779, Train accuracy: 0.196667, val accuracy: 0.206000\n",
      "Loss: 2.218572, Train accuracy: 0.196667, val accuracy: 0.206000\n",
      "Loss: 2.242391, Train accuracy: 0.196667, val accuracy: 0.206000\n",
      "Loss: 2.143849, Train accuracy: 0.196667, val accuracy: 0.206000\n",
      "Loss: 2.194388, Train accuracy: 0.196667, val accuracy: 0.206000\n",
      "Loss: 2.275046, Train accuracy: 0.196667, val accuracy: 0.206000\n",
      "Loss: 2.195766, Train accuracy: 0.196667, val accuracy: 0.206000\n",
      "Loss: 2.213780, Train accuracy: 0.196667, val accuracy: 0.206000\n",
      "Loss: 2.275018, Train accuracy: 0.196667, val accuracy: 0.206000\n",
      "Loss: 2.195763, Train accuracy: 0.196667, val accuracy: 0.206000\n",
      "Loss: 2.272245, Train accuracy: 0.196667, val accuracy: 0.206000\n",
      "Loss: 2.325152, Train accuracy: 0.196667, val accuracy: 0.206000\n",
      "Loss: 2.168707, Train accuracy: 0.196667, val accuracy: 0.206000\n",
      "Loss: 2.203983, Train accuracy: 0.196667, val accuracy: 0.206000\n",
      "Loss: 2.152269, Train accuracy: 0.196667, val accuracy: 0.206000\n",
      "Loss: 2.328085, Train accuracy: 0.196667, val accuracy: 0.206000\n",
      "Loss: 2.235947, Train accuracy: 0.196667, val accuracy: 0.206000\n",
      "Loss: 2.233399, Train accuracy: 0.196667, val accuracy: 0.206000\n",
      "Loss: 2.180858, Train accuracy: 0.196667, val accuracy: 0.206000\n",
      "Loss: 2.204362, Train accuracy: 0.196667, val accuracy: 0.206000\n",
      "Loss: 2.206943, Train accuracy: 0.196667, val accuracy: 0.206000\n",
      "Loss: 2.201491, Train accuracy: 0.196667, val accuracy: 0.206000\n",
      "Loss: 2.292920, Train accuracy: 0.196667, val accuracy: 0.206000\n",
      "Loss: 2.231772, Train accuracy: 0.196667, val accuracy: 0.206000\n",
      "Loss: 2.264707, Train accuracy: 0.196667, val accuracy: 0.206000\n",
      "Loss: 2.253805, Train accuracy: 0.196667, val accuracy: 0.206000\n",
      "Loss: 2.238972, Train accuracy: 0.196667, val accuracy: 0.206000\n",
      "Loss: 2.228869, Train accuracy: 0.196667, val accuracy: 0.206000\n",
      "Loss: 2.265810, Train accuracy: 0.196667, val accuracy: 0.206000\n",
      "Loss: 2.179332, Train accuracy: 0.196667, val accuracy: 0.206000\n",
      "Loss: 2.249750, Train accuracy: 0.196667, val accuracy: 0.206000\n",
      "Loss: 2.243038, Train accuracy: 0.196667, val accuracy: 0.206000\n",
      "Loss: 2.216005, Train accuracy: 0.196667, val accuracy: 0.206000\n",
      "Loss: 2.301249, Train accuracy: 0.196667, val accuracy: 0.206000\n",
      "Loss: 2.246221, Train accuracy: 0.196667, val accuracy: 0.206000\n",
      "Loss: 2.287329, Train accuracy: 0.196667, val accuracy: 0.206000\n",
      "Loss: 2.218680, Train accuracy: 0.196667, val accuracy: 0.206000\n",
      "Loss: 2.164342, Train accuracy: 0.196667, val accuracy: 0.206000\n",
      "Loss: 2.239905, Train accuracy: 0.196667, val accuracy: 0.206000\n",
      "Loss: 2.209650, Train accuracy: 0.196667, val accuracy: 0.206000\n",
      "Loss: 2.242396, Train accuracy: 0.196667, val accuracy: 0.206000\n",
      "Loss: 2.241399, Train accuracy: 0.196667, val accuracy: 0.206000\n",
      "Loss: 2.261895, Train accuracy: 0.196667, val accuracy: 0.206000\n",
      "Loss: 2.143704, Train accuracy: 0.196667, val accuracy: 0.206000\n",
      "Loss: 2.274347, Train accuracy: 0.196667, val accuracy: 0.206000\n",
      "Loss: 2.300210, Train accuracy: 0.196667, val accuracy: 0.206000\n",
      "Loss: 2.194418, Train accuracy: 0.196667, val accuracy: 0.206000\n",
      "Loss: 2.280330, Train accuracy: 0.196667, val accuracy: 0.206000\n",
      "Loss: 2.099791, Train accuracy: 0.196667, val accuracy: 0.206000\n",
      "Loss: 2.275002, Train accuracy: 0.196667, val accuracy: 0.206000\n",
      "Loss: 2.280524, Train accuracy: 0.196667, val accuracy: 0.206000\n",
      "Loss: 2.226391, Train accuracy: 0.196667, val accuracy: 0.206000\n",
      "Loss: 2.290183, Train accuracy: 0.196667, val accuracy: 0.206000\n",
      "Loss: 2.257607, Train accuracy: 0.196667, val accuracy: 0.206000\n"
     ]
    },
    {
     "name": "stdout",
     "output_type": "stream",
     "text": [
      "Loss: 2.249646, Train accuracy: 0.196667, val accuracy: 0.206000\n",
      "Loss: 2.237294, Train accuracy: 0.196667, val accuracy: 0.206000\n",
      "Loss: 2.223570, Train accuracy: 0.196667, val accuracy: 0.206000\n",
      "Loss: 2.259675, Train accuracy: 0.196667, val accuracy: 0.206000\n",
      "Loss: 2.181419, Train accuracy: 0.196667, val accuracy: 0.206000\n",
      "Loss: 2.305668, Train accuracy: 0.196667, val accuracy: 0.206000\n",
      "Loss: 2.402166, Train accuracy: 0.196667, val accuracy: 0.206000\n",
      "Loss: 2.213208, Train accuracy: 0.196667, val accuracy: 0.206000\n",
      "Loss: 2.283123, Train accuracy: 0.196667, val accuracy: 0.206000\n",
      "Loss: 2.173136, Train accuracy: 0.196667, val accuracy: 0.206000\n",
      "Loss: 2.240977, Train accuracy: 0.196667, val accuracy: 0.206000\n",
      "Loss: 2.261043, Train accuracy: 0.196667, val accuracy: 0.206000\n",
      "Loss: 2.257163, Train accuracy: 0.196667, val accuracy: 0.206000\n",
      "Loss: 2.230407, Train accuracy: 0.196667, val accuracy: 0.206000\n",
      "Loss: 2.288697, Train accuracy: 0.196667, val accuracy: 0.206000\n",
      "Loss: 2.288879, Train accuracy: 0.196667, val accuracy: 0.206000\n",
      "Loss: 2.256888, Train accuracy: 0.196667, val accuracy: 0.206000\n",
      "Loss: 2.270439, Train accuracy: 0.196667, val accuracy: 0.206000\n",
      "Loss: 2.145137, Train accuracy: 0.196667, val accuracy: 0.206000\n",
      "Loss: 2.335607, Train accuracy: 0.196667, val accuracy: 0.206000\n",
      "Loss: 2.249925, Train accuracy: 0.196667, val accuracy: 0.206000\n",
      "Loss: 2.256011, Train accuracy: 0.196667, val accuracy: 0.206000\n",
      "Loss: 2.204115, Train accuracy: 0.196667, val accuracy: 0.206000\n",
      "Loss: 2.177575, Train accuracy: 0.196667, val accuracy: 0.206000\n",
      "Loss: 2.249020, Train accuracy: 0.196667, val accuracy: 0.206000\n",
      "Loss: 2.133440, Train accuracy: 0.196667, val accuracy: 0.206000\n",
      "Loss: 2.281158, Train accuracy: 0.196667, val accuracy: 0.206000\n",
      "Loss: 2.237739, Train accuracy: 0.196667, val accuracy: 0.206000\n",
      "Loss: 2.159236, Train accuracy: 0.196667, val accuracy: 0.206000\n",
      "Loss: 2.310409, Train accuracy: 0.196667, val accuracy: 0.206000\n",
      "Loss: 2.265300, Train accuracy: 0.196667, val accuracy: 0.206000\n",
      "Loss: 2.278972, Train accuracy: 0.196667, val accuracy: 0.206000\n",
      "Loss: 2.242990, Train accuracy: 0.196667, val accuracy: 0.206000\n",
      "Loss: 2.256796, Train accuracy: 0.196667, val accuracy: 0.206000\n",
      "Loss: 2.385068, Train accuracy: 0.196667, val accuracy: 0.206000\n",
      "Loss: 2.227516, Train accuracy: 0.196667, val accuracy: 0.206000\n",
      "Loss: 2.228153, Train accuracy: 0.196667, val accuracy: 0.206000\n",
      "Loss: 2.199970, Train accuracy: 0.196667, val accuracy: 0.206000\n",
      "Loss: 2.260922, Train accuracy: 0.196667, val accuracy: 0.206000\n",
      "Loss: 2.313364, Train accuracy: 0.196667, val accuracy: 0.206000\n",
      "Loss: 2.121961, Train accuracy: 0.196667, val accuracy: 0.206000\n",
      "Loss: 2.237825, Train accuracy: 0.196667, val accuracy: 0.206000\n",
      "Loss: 2.365437, Train accuracy: 0.196667, val accuracy: 0.206000\n",
      "Loss: 2.263512, Train accuracy: 0.196667, val accuracy: 0.206000\n",
      "Loss: 2.201812, Train accuracy: 0.196667, val accuracy: 0.206000\n",
      "Loss: 2.196804, Train accuracy: 0.196667, val accuracy: 0.206000\n",
      "Loss: 2.191152, Train accuracy: 0.196667, val accuracy: 0.206000\n",
      "Loss: 2.169492, Train accuracy: 0.196667, val accuracy: 0.206000\n",
      "Loss: 2.264386, Train accuracy: 0.196667, val accuracy: 0.206000\n",
      "Loss: 2.264902, Train accuracy: 0.196667, val accuracy: 0.206000\n",
      "Loss: 2.139314, Train accuracy: 0.196667, val accuracy: 0.206000\n",
      "Loss: 2.233660, Train accuracy: 0.196667, val accuracy: 0.206000\n",
      "Loss: 2.216594, Train accuracy: 0.196667, val accuracy: 0.206000\n",
      "Loss: 2.164443, Train accuracy: 0.196667, val accuracy: 0.206000\n",
      "Loss: 2.123095, Train accuracy: 0.196667, val accuracy: 0.206000\n",
      "Loss: 2.350281, Train accuracy: 0.196667, val accuracy: 0.206000\n",
      "Loss: 2.143354, Train accuracy: 0.196667, val accuracy: 0.206000\n",
      "Loss: 2.226870, Train accuracy: 0.196667, val accuracy: 0.206000\n",
      "Loss: 2.228218, Train accuracy: 0.196667, val accuracy: 0.206000\n",
      "Loss: 2.168239, Train accuracy: 0.196667, val accuracy: 0.206000\n",
      "Loss: 2.248703, Train accuracy: 0.196667, val accuracy: 0.206000\n",
      "Loss: 2.280692, Train accuracy: 0.196667, val accuracy: 0.206000\n",
      "Loss: 2.196738, Train accuracy: 0.196667, val accuracy: 0.206000\n",
      "Loss: 2.126049, Train accuracy: 0.196667, val accuracy: 0.206000\n",
      "Loss: 2.174224, Train accuracy: 0.196667, val accuracy: 0.206000\n",
      "Loss: 2.237695, Train accuracy: 0.196667, val accuracy: 0.206000\n",
      "Loss: 2.191056, Train accuracy: 0.196667, val accuracy: 0.206000\n",
      "Loss: 2.256540, Train accuracy: 0.196667, val accuracy: 0.206000\n",
      "Loss: 2.159214, Train accuracy: 0.196667, val accuracy: 0.206000\n",
      "Loss: 2.069856, Train accuracy: 0.196667, val accuracy: 0.206000\n",
      "Loss: 2.153132, Train accuracy: 0.196667, val accuracy: 0.206000\n",
      "Loss: 2.175089, Train accuracy: 0.196667, val accuracy: 0.206000\n",
      "Loss: 2.182319, Train accuracy: 0.196667, val accuracy: 0.206000\n",
      "next\n",
      "best validation accuracy achieved: 0.000000\n"
     ]
    }
   ],
   "source": [
    "# Let's train the best one-hidden-layer network we can\n",
    "# нужно сделать больше параметров - пока просто запустил на одном наборе, чтобы сэкономить время (долго обучается)\n",
    "learning_rates = [1e-4]\n",
    "reg_strengths = [1e-3]\n",
    "learning_rate_decay = [0.999]\n",
    "hidden_layer_sizes = [128]\n",
    "num_epochs = [200]\n",
    "batch_sizes = [64]\n",
    "\n",
    "best_classifier = None\n",
    "best_val_accuracy = 0\n",
    "\n",
    "loss_history = []\n",
    "train_history = []\n",
    "val_history = []\n",
    "\n",
    "# TODO find the best hyperparameters to train the network\n",
    "# Don't hesitate to add new values to the arrays above, perform experiments, use any tricks you want\n",
    "# You should expect to get to at least 40% of valudation accuracy\n",
    "# Save loss/train/history of the best classifier to the variables above\n",
    "\n",
    "\n",
    "for learning_rate in learning_rates:\n",
    "    for reg_strength in reg_strengths:\n",
    "        for hidden_layer_size in hidden_layer_sizes:\n",
    "            for num_epoch in num_epochs:\n",
    "                for batch_size in batch_sizes:\n",
    "                    \n",
    "                    model = TwoLayerNet(n_input = train_X.shape[1], \n",
    "                                    n_output = 10, \n",
    "                                    hidden_layer_size = hidden_layer_size, \n",
    "                                    reg = reg_strength)\n",
    "                    dataset = Dataset(train_X, train_y, val_X, val_y)\n",
    "                    trainer = Trainer(model, dataset, MomentumSGD(), \n",
    "                                      learning_rate=learning_rate, \n",
    "                                      num_epochs=num_epoch, batch_size=batch_size)\n",
    "                    loss_history, train_history, val_history = trainer.fit()\n",
    "                    #if best_classifier == None:\n",
    "                    #    best_classifier = model\n",
    "                    #    best_val_accuracy = val_history[-1]\n",
    "\n",
    "                    if val_history[-1] > best_val_accuracy:\n",
    "                        best_classifier = model\n",
    "                        best_val_accuracy = val_history[-1]\n",
    "                        best_learning_rate = learning_rate\n",
    "                        best_reg_strength = reg_strength\n",
    "                        best_hidden_layer_size = hidden_layer_size\n",
    "                        best_num_epoch = num_epoch\n",
    "                    print('next')\n",
    "\n",
    "print('best validation accuracy achieved: %f' % best_val_accuracy)\n",
    "print('best_val_accuracy', best_val_accuracy)\n",
    "print('best_learning_rate', best_learning_rate)\n",
    "print('best_reg_strength', best_reg_strength)\n",
    "print('best_hidden_layer_size', best_hidden_layer_size)\n",
    "print('best_num_epoch', best_num_epoch)"
   ]
  },
  {
   "cell_type": "code",
   "execution_count": 91,
   "metadata": {},
   "outputs": [
    {
     "name": "stdout",
     "output_type": "stream",
     "text": [
      "best validation accuracy achieved: 0.206000\n",
      "best_val_accuracy 0.206\n"
     ]
    },
    {
     "ename": "NameError",
     "evalue": "name 'best_learning_rate' is not defined",
     "output_type": "error",
     "traceback": [
      "\u001b[1;31m---------------------------------------------------------------------------\u001b[0m",
      "\u001b[1;31mNameError\u001b[0m                                 Traceback (most recent call last)",
      "\u001b[1;32m<ipython-input-91-28e4bcdb8e9a>\u001b[0m in \u001b[0;36m<module>\u001b[1;34m\u001b[0m\n\u001b[0;32m      1\u001b[0m \u001b[0mprint\u001b[0m\u001b[1;33m(\u001b[0m\u001b[1;34m'best validation accuracy achieved: %f'\u001b[0m \u001b[1;33m%\u001b[0m \u001b[0mbest_val_accuracy\u001b[0m\u001b[1;33m)\u001b[0m\u001b[1;33m\u001b[0m\u001b[1;33m\u001b[0m\u001b[0m\n\u001b[0;32m      2\u001b[0m \u001b[0mprint\u001b[0m\u001b[1;33m(\u001b[0m\u001b[1;34m'best_val_accuracy'\u001b[0m\u001b[1;33m,\u001b[0m \u001b[0mbest_val_accuracy\u001b[0m\u001b[1;33m)\u001b[0m\u001b[1;33m\u001b[0m\u001b[1;33m\u001b[0m\u001b[0m\n\u001b[1;32m----> 3\u001b[1;33m \u001b[0mprint\u001b[0m\u001b[1;33m(\u001b[0m\u001b[1;34m'best_learning_rate'\u001b[0m\u001b[1;33m,\u001b[0m \u001b[0mbest_learning_rate\u001b[0m\u001b[1;33m)\u001b[0m\u001b[1;33m\u001b[0m\u001b[1;33m\u001b[0m\u001b[0m\n\u001b[0m\u001b[0;32m      4\u001b[0m \u001b[0mprint\u001b[0m\u001b[1;33m(\u001b[0m\u001b[1;34m'best_reg_strength'\u001b[0m\u001b[1;33m,\u001b[0m \u001b[0mbest_reg_strength\u001b[0m\u001b[1;33m)\u001b[0m\u001b[1;33m\u001b[0m\u001b[1;33m\u001b[0m\u001b[0m\n\u001b[0;32m      5\u001b[0m \u001b[0mprint\u001b[0m\u001b[1;33m(\u001b[0m\u001b[1;34m'best_hidden_layer_size'\u001b[0m\u001b[1;33m,\u001b[0m \u001b[0mbest_hidden_layer_size\u001b[0m\u001b[1;33m)\u001b[0m\u001b[1;33m\u001b[0m\u001b[1;33m\u001b[0m\u001b[0m\n",
      "\u001b[1;31mNameError\u001b[0m: name 'best_learning_rate' is not defined"
     ]
    }
   ],
   "source": [
    "print('best validation accuracy achieved: %f' % best_val_accuracy)\n",
    "print('best_val_accuracy', best_val_accuracy)\n",
    "print('best_learning_rate', best_learning_rate)\n",
    "print('best_reg_strength', best_reg_strength)\n",
    "print('best_hidden_layer_size', best_hidden_layer_size)\n",
    "print('best_num_epoch', best_num_epoch)"
   ]
  },
  {
   "cell_type": "code",
   "execution_count": 92,
   "metadata": {},
   "outputs": [
    {
     "data": {
      "text/plain": [
       "[<matplotlib.lines.Line2D at 0x1ed81933490>]"
      ]
     },
     "execution_count": 92,
     "metadata": {},
     "output_type": "execute_result"
    },
    {
     "data": {
      "image/png": "[encoded data removed]",
      "text/plain": [
       "<Figure size 1080x504 with 2 Axes>"
      ]
     },
     "metadata": {
      "needs_background": "light"
     },
     "output_type": "display_data"
    }
   ],
   "source": [
    "plt.figure(figsize=(15, 7))\n",
    "plt.subplot(211)\n",
    "plt.title(\"Loss\")\n",
    "plt.plot(loss_history)\n",
    "plt.subplot(212)\n",
    "plt.title(\"Train/validation accuracy\")\n",
    "plt.plot(train_history)\n",
    "plt.plot(val_history)"
   ]
  },
  {
   "cell_type": "markdown",
   "metadata": {},
   "source": [
    "# Как обычно, посмотрим, как наша лучшая модель работает на тестовых данных"
   ]
  },
  {
   "cell_type": "code",
   "execution_count": 95,
   "metadata": {},
   "outputs": [
    {
     "name": "stdout",
     "output_type": "stream",
     "text": [
      "Neural net test set accuracy: 0.182000\n"
     ]
    }
   ],
   "source": [
    "test_pred = best_classifier.predict(test_X)\n",
    "test_accuracy = multiclass_accuracy(test_pred, test_y)\n",
    "print('Neural net test set accuracy: %f' % (test_accuracy, ))"
   ]
  },
  {
   "cell_type": "code",
   "execution_count": null,
   "metadata": {},
   "outputs": [],
   "source": []
  }
 ],
 "metadata": {
  "kernelspec": {
   "display_name": "Python 3",
   "language": "python",
   "name": "python3"
  },
  "language_info": {
   "codemirror_mode": {
    "name": "ipython",
    "version": 3
   },
   "file_extension": ".py",
   "mimetype": "text/x-python",
   "name": "python",
   "nbconvert_exporter": "python",
   "pygments_lexer": "ipython3",
   "version": "3.8.3"
  }
 },
 "nbformat": 4,
 "nbformat_minor": 2
}
