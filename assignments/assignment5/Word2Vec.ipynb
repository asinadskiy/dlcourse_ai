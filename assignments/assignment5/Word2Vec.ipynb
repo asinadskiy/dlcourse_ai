{
  "nbformat": 4,
  "nbformat_minor": 0,
  "metadata": {
    "kernelspec": {
      "display_name": "Python 3",
      "language": "python",
      "name": "python3"
    },
    "language_info": {
      "codemirror_mode": {
        "name": "ipython",
        "version": 3
      },
      "file_extension": ".py",
      "mimetype": "text/x-python",
      "name": "python",
      "nbconvert_exporter": "python",
      "pygments_lexer": "ipython3",
      "version": "3.8.3"
    },
    "colab": {
      "name": "Word2Vec.ipynb",
      "provenance": [],
      "collapsed_sections": []
    }
  },
  "cells": [
    {
      "cell_type": "markdown",
      "metadata": {
        "id": "5MFtzxfbYe4A"
      },
      "source": [
        "# Задание 5.1 - Word2Vec\n",
        "\n",
        "В этом задании мы натренируем свои word vectors на очень небольшом датасете.\n",
        "Мы будем использовать самую простую версию word2vec, без negative sampling и других оптимизаций.\n",
        "\n",
        "Перед запуском нужно запустить скрипт `download_data.sh` чтобы скачать данные.\n",
        "\n",
        "Датасет и модель очень небольшие, поэтому это задание можно выполнить и без GPU."
      ]
    },
    {
      "cell_type": "code",
      "metadata": {
        "id": "HKRBkYi4Ye4L"
      },
      "source": [
        "import torch\n",
        "import torch.nn as nn\n",
        "import torch.optim as optim\n",
        "from torch.utils.data import Dataset\n",
        "\n",
        "from torchvision import transforms\n",
        "\n",
        "import numpy as np\n",
        "import matplotlib.pyplot as plt\n",
        "\n",
        "# We'll use Principal Component Analysis (PCA) to visualize word vectors,\n",
        "# so make sure you install dependencies from requirements.txt!\n",
        "from sklearn.decomposition import PCA \n",
        "\n",
        "%matplotlib inline"
      ],
      "execution_count": null,
      "outputs": []
    },
    {
      "cell_type": "markdown",
      "metadata": {
        "id": "q8wlU0GGb6Wp"
      },
      "source": [
        "Если запускается в Colab - то некоторые правки"
      ]
    },
    {
      "cell_type": "code",
      "metadata": {
        "id": "phhKgsiSb53G"
      },
      "source": [
        "# определение запуска в Colab по косвенным признакам\n",
        "__folder_list = !ls\n",
        "__working_dir = !pwd\n",
        "colab_driven = True if 'sample_data' in __folder_list[0] and '/content' in __working_dir else False\n",
        "\n",
        "if colab_driven and not 'drive' in __folder_list[0]: # если в Колабе и ещё не подключили Гугл-диск с данными\n",
        "    from google.colab import drive\n",
        "    drive.mount('/content/drive') # тут надо интерактивно ввести ключ авторизации\n",
        "\n",
        "del __folder_list, __working_dir"
      ],
      "execution_count": null,
      "outputs": []
    },
    {
      "cell_type": "code",
      "metadata": {
        "scrolled": false,
        "colab": {
          "base_uri": "https://localhost:8080/"
        },
        "id": "P4r4YPULYe4Q",
        "outputId": "6e8884d1-4f17-4cd8-ae85-d0a503589ad6"
      },
      "source": [
        "import os\n",
        "import numpy as np\n",
        "\n",
        "class StanfordTreeBank:\n",
        "    '''\n",
        "    Wrapper for accessing Stanford Tree Bank Dataset\n",
        "    https://nlp.stanford.edu/sentiment/treebank.html\n",
        "    \n",
        "    Parses dataset, gives each token and index and provides lookups\n",
        "    from string token to index and back\n",
        "    \n",
        "    Allows to generate random context with sampling strategy described in\n",
        "    word2vec paper:\n",
        "    https://papers.nips.cc/paper/5021-distributed-representations-of-words-and-phrases-and-their-compositionality.pdf\n",
        "    '''\n",
        "    def __init__(self):\n",
        "        self.index_by_token = {}\n",
        "        self.token_by_index = []\n",
        "\n",
        "        self.sentences = []\n",
        "\n",
        "        self.token_freq = {}\n",
        "        \n",
        "        self.token_reject_by_index = None\n",
        "\n",
        "    def load_dataset(self, folder):\n",
        "        filename = os.path.join(folder, \"datasetSentences.txt\")\n",
        "\n",
        "        with open(filename, \"r\", encoding=\"latin1\") as f:\n",
        "            l = f.readline() # skip the first line\n",
        "            \n",
        "            for l in f:\n",
        "                splitted_line = l.strip().split()\n",
        "                words = [w.lower() for w in splitted_line[1:]] # First one is a number\n",
        "                    \n",
        "                self.sentences.append(words)\n",
        "                for word in words:\n",
        "                    if word in self.token_freq:\n",
        "                        self.token_freq[word] +=1 \n",
        "                    else:\n",
        "                        index = len(self.token_by_index)\n",
        "                        self.token_freq[word] = 1\n",
        "                        self.index_by_token[word] = index\n",
        "                        self.token_by_index.append(word)\n",
        "        self.compute_token_prob()\n",
        "                        \n",
        "    def compute_token_prob(self):\n",
        "        words_count = np.array([self.token_freq[token] for token in self.token_by_index])\n",
        "        words_freq = words_count / np.sum(words_count)\n",
        "        \n",
        "        # Following sampling strategy from word2vec paper:\n",
        "        # https://papers.nips.cc/paper/5021-distributed-representations-of-words-and-phrases-and-their-compositionality.pdf\n",
        "        self.token_reject_by_index = 1- np.sqrt(1e-5/words_freq)\n",
        "    \n",
        "    def check_reject(self, word):\n",
        "        return np.random.rand() > self.token_reject_by_index[self.index_by_token[word]]\n",
        "        \n",
        "    def get_random_context(self, context_length=5):\n",
        "        \"\"\"\n",
        "        Returns tuple of center word and list of context words\n",
        "        \"\"\"\n",
        "        sentence_sampled = []\n",
        "        while len(sentence_sampled) <= 2:\n",
        "            sentence_index = np.random.randint(len(self.sentences)) \n",
        "            sentence = self.sentences[sentence_index]\n",
        "            sentence_sampled = [word for word in sentence if self.check_reject(word)]\n",
        "    \n",
        "        center_word_index = np.random.randint(len(sentence_sampled))\n",
        "        \n",
        "        words_before = sentence_sampled[max(center_word_index - context_length//2,0):center_word_index]\n",
        "        words_after = sentence_sampled[center_word_index+1: center_word_index+1+context_length//2]\n",
        "        \n",
        "        return sentence_sampled[center_word_index], words_before+words_after\n",
        "    \n",
        "    def num_tokens(self):\n",
        "        return len(self.token_by_index)\n",
        "        \n",
        "data = StanfordTreeBank()\n",
        "\n",
        "if colab_driven: # если запуск в Colab\n",
        "    data.load_dataset(\"/content/drive/MyDrive/DLcourse/task5/\" + \"./stanfordSentimentTreebank/\")\n",
        "else:\n",
        "    data.load_dataset(\"./stanfordSentimentTreebank/\")\n",
        "\n",
        "print(\"Num tokens:\", data.num_tokens())\n",
        "for i in range(5):\n",
        "    center_word, other_words = data.get_random_context(5)\n",
        "    print(center_word, other_words)"
      ],
      "execution_count": null,
      "outputs": [
        {
          "output_type": "stream",
          "name": "stdout",
          "text": [
            "Num tokens: 19538\n",
            "deliberative ['lifestyle', 'characterized']\n",
            "suburban ['architect', 'cipher']\n",
            "roberto ['49-year-old', 'boy']\n",
            "twists ['knowing', 'skill']\n",
            "trivial ['cash-in', 'features']\n"
          ]
        }
      ]
    },
    {
      "cell_type": "markdown",
      "metadata": {
        "id": "eFWbtsU0Ye4V"
      },
      "source": [
        "# Имплеменируем PyTorch-style Dataset для Word2Vec\n",
        "\n",
        "Этот Dataset должен сгенерировать много случайных контекстов и превратить их в сэмплы для тренировки.\n",
        "\n",
        "Напоминаем, что word2vec модель получает на вход One-hot вектор слова и тренирует простую сеть для предсказания на его основе соседних слов.\n",
        "Из набора слово-контекст создается N сэмплов (где N - количество слов в контексте):\n",
        "\n",
        "Например:\n",
        "\n",
        "Слово: `orders` и контекст: `['love', 'nicest', 'to', '50-year']` создадут 4 сэмпла:\n",
        "- input: `orders`, target: `love`\n",
        "- input: `orders`, target: `nicest`\n",
        "- input: `orders`, target: `to`\n",
        "- input: `orders`, target: `50-year`\n",
        "\n",
        "Все слова на входе и на выходе закодированы через one-hot encoding, с размером вектора равным количеству токенов."
      ]
    },
    {
      "cell_type": "code",
      "metadata": {
        "colab": {
          "base_uri": "https://localhost:8080/"
        },
        "id": "75sjXcRvYe4W",
        "outputId": "8374052d-75b9-449b-a327-13d1540b8849"
      },
      "source": [
        "class Word2VecPlain(Dataset):\n",
        "    '''\n",
        "    PyTorch Dataset for plain Word2Vec.\n",
        "    Accepts StanfordTreebank as data and is able to generate dataset based on\n",
        "    a number of random contexts\n",
        "    '''\n",
        "    def __init__(self, data, num_contexts=30000):\n",
        "        '''\n",
        "        Initializes Word2VecPlain, but doesn't generate the samples yet\n",
        "        (for that, use generate_dataset)\n",
        "        Arguments:\n",
        "        data - StanfordTreebank instace\n",
        "        num_contexts - number of random contexts to use when generating a dataset\n",
        "        '''\n",
        "        # TODO: Implement what you need for other methods!\n",
        "        self.num_contexts  = num_contexts # просто сохраняем данные\n",
        "        self.data = data\n",
        "        self.num_tokens = data.num_tokens()\n",
        "    \n",
        "    def generate_dataset(self):\n",
        "        '''\n",
        "        Generates dataset samples from random contexts\n",
        "        Note: there will be more samples than contexts because every context\n",
        "        can generate more than one sample\n",
        "        '''\n",
        "        # TODO: Implement generating the dataset\n",
        "        # You should sample num_contexts contexts from the data and turn them into samples\n",
        "        # Note you will have several samples from one context\n",
        "        self.words = [] # список слов\n",
        "        for i in range(self.num_contexts): # для каждого из контекстов\n",
        "            word, context = self.data.get_random_context() # случайное слово и окружающие его\n",
        "            word_idx = self.data.index_by_token[word] # индекс слова по буквам\n",
        "            for context_word in context: # для каждого слова из окружающих\n",
        "                # добавить пару \"целевое-окружающее\" в индексах\n",
        "                self.words.append((word_idx, self.data.index_by_token[context_word]))\n",
        "        \n",
        "    def __len__(self):\n",
        "        '''\n",
        "        Returns total number of samples\n",
        "        '''\n",
        "        # TODO: Return the number of samples\n",
        "        return len(self.words)\n",
        "    \n",
        "    def __getitem__(self, index):\n",
        "        '''\n",
        "        Returns i-th sample\n",
        "        \n",
        "        Return values:\n",
        "        input_vector - torch.Tensor with one-hot representation of the input vector\n",
        "        output_index - index of the target word (not torch.Tensor!)\n",
        "        '''\n",
        "        # TODO: Generate tuple of 2 return arguments for i-th sample    \n",
        "        input_index, output_index = self.words[index] # индексы целевых слов\n",
        "        input_vector = torch.zeros(self.num_tokens) # список нулей\n",
        "        input_vector.data[input_index] = 1 # выделяем целевое слово\n",
        "        return input_vector, output_index\n",
        "\n",
        "dataset = Word2VecPlain(data, 10)\n",
        "dataset.generate_dataset()\n",
        "input_vector, target = dataset[3]\n",
        "print(\"Sample - input: %s, target: %s\" % (input_vector, int(target))) # target should be able to convert to int\n",
        "assert isinstance(input_vector, torch.Tensor)\n",
        "assert torch.sum(input_vector) == 1.0\n",
        "assert input_vector.shape[0] == data.num_tokens()"
      ],
      "execution_count": null,
      "outputs": [
        {
          "output_type": "stream",
          "name": "stdout",
          "text": [
            "Sample - input: tensor([0., 0., 0.,  ..., 0., 0., 0.]), target: 7464\n"
          ]
        }
      ]
    },
    {
      "cell_type": "markdown",
      "metadata": {
        "id": "Ilu2Re67Ye4Z"
      },
      "source": [
        "# Создаем модель и тренируем ее"
      ]
    },
    {
      "cell_type": "code",
      "metadata": {
        "colab": {
          "base_uri": "https://localhost:8080/"
        },
        "id": "pDD_fjAXYe4a",
        "outputId": "bc2c20c6-2b70-49fb-f3f3-e7b4c5cf9de7"
      },
      "source": [
        "# Create the usual PyTorch structures\n",
        "dataset = Word2VecPlain(data, 30000)\n",
        "dataset.generate_dataset()\n",
        "\n",
        "# We'll be training very small word vectors!\n",
        "wordvec_dim = 10\n",
        "\n",
        "# We can use a standard sequential model for this\n",
        "nn_model = nn.Sequential(\n",
        "            nn.Linear(dataset.num_tokens, wordvec_dim, bias=False),\n",
        "            nn.Linear(wordvec_dim, dataset.num_tokens, bias=False), \n",
        "         )\n",
        "nn_model.type(torch.FloatTensor)"
      ],
      "execution_count": null,
      "outputs": [
        {
          "output_type": "execute_result",
          "data": {
            "text/plain": [
              "Sequential(\n",
              "  (0): Linear(in_features=19538, out_features=10, bias=False)\n",
              "  (1): Linear(in_features=10, out_features=19538, bias=False)\n",
              ")"
            ]
          },
          "metadata": {},
          "execution_count": 57
        }
      ]
    },
    {
      "cell_type": "code",
      "metadata": {
        "id": "hUPoh91XYe4b"
      },
      "source": [
        "def extract_word_vectors(nn_model):\n",
        "    '''\n",
        "    Extracts word vectors from the model\n",
        "    \n",
        "    Returns:\n",
        "    input_vectors: torch.Tensor with dimensions (num_tokens, num_dimensions)\n",
        "    output_vectors: torch.Tensor with dimensions (num_tokens, num_dimensions)\n",
        "    '''\n",
        "    # TODO: Implement extracting word vectors from param weights\n",
        "    # return tuple of input vectors and output vectos \n",
        "    # Hint: you can access weights as Tensors through nn.Linear class attributes\n",
        "    input_vectors = torch.t( # формируем тензор\n",
        "        # из первого слоя сети копируем по значению веса и замораживаем их\n",
        "        nn_model[0].weight.clone().detach())\n",
        "    # аналогично для 2 слоя сети\n",
        "    output_vectors = nn_model[1].weight.clone().detach()\n",
        "    return input_vectors, output_vectors\n",
        "\n",
        "untrained_input_vectors, untrained_output_vectors = extract_word_vectors(nn_model)\n",
        "assert untrained_input_vectors.shape == (data.num_tokens(), wordvec_dim)\n",
        "assert untrained_output_vectors.shape == (data.num_tokens(), wordvec_dim)"
      ],
      "execution_count": null,
      "outputs": []
    },
    {
      "cell_type": "code",
      "metadata": {
        "id": "_aRGxEtIYe4c"
      },
      "source": [
        "def train_model(model, dataset, train_loader, optimizer, scheduler, num_epochs):\n",
        "    '''\n",
        "    Trains plain word2vec using cross-entropy loss and regenerating dataset every epoch\n",
        "    \n",
        "    Returns:\n",
        "    loss_history, train_history\n",
        "    '''\n",
        "    \n",
        "    loss = nn.CrossEntropyLoss().type(torch.FloatTensor) # функция ошибки\n",
        "    \n",
        "    loss_history = []\n",
        "    train_history = []\n",
        "    for epoch in range(num_epochs):\n",
        "        model.train() # Enter train mode\n",
        "        \n",
        "        dataset.generate_dataset() # Regenerate dataset every epoch\n",
        "        \n",
        "        # TODO Implement training for this model\n",
        "        # Note we don't have any validation set here because our purpose is the word vectors,\n",
        "        # not the predictive performance of the model\n",
        "        #\n",
        "        # And don't forget to step the learing rate scheduler!  \n",
        "        \n",
        "        loss_accum = 0 # накопленная ошибка\n",
        "        correct_samples = 0 # правильно предсказанные сэмплы\n",
        "        total_samples = 0 # общее количество сэмплов\n",
        "        for i_step, (x, y) in enumerate(train_loader): # по всем входным данным\n",
        "            prediction = model(x) # делаем предсказание\n",
        "            loss_value = loss(prediction, y) # оцениваем потери\n",
        "            optimizer.zero_grad() # обнуляем градиенты с прошлого шага\n",
        "            loss_value.backward() # накопление градиентов\n",
        "            optimizer.step() # обновление градиентов \n",
        "            \n",
        "            _, indices = torch.max(prediction, 1) # поиск максимальных значений по столбцам\n",
        "            correct_samples += torch.sum(indices == y) # сумма правильных\n",
        "            total_samples += y.shape[0] # общее количество - как все существующие\n",
        "            \n",
        "            loss_accum += loss_value # добавляем накопленную ошибку\n",
        "            \n",
        "        scheduler.step() # изменение скорости обучения по условию\n",
        "\n",
        "        ave_loss = loss_accum / i_step # средняя ошибка\n",
        "        train_accuracy = float(correct_samples) / total_samples # точность на тренировочных данных\n",
        "        \n",
        "        loss_history.append(float(ave_loss)) # запоминаем для сохранения в историю\n",
        "        train_history.append(train_accuracy)\n",
        "        \n",
        "        print(\"Epoch %i, Average loss: %f, Train accuracy: %f\" % (epoch, ave_loss, train_accuracy))\n",
        "        \n",
        "    return loss_history, train_history"
      ],
      "execution_count": null,
      "outputs": []
    },
    {
      "cell_type": "markdown",
      "metadata": {
        "id": "Q3iBQ1J-Ye4e"
      },
      "source": [
        "# Ну и наконец тренировка!\n",
        "\n",
        "Добейтесь значения ошибки меньше **8.0**."
      ]
    },
    {
      "cell_type": "code",
      "metadata": {
        "colab": {
          "base_uri": "https://localhost:8080/"
        },
        "id": "74zFbBUZYe4e",
        "outputId": "02de1a78-c46d-4a2e-dd5a-d7f225b4cd50"
      },
      "source": [
        "# Finally, let's train the model!\n",
        "\n",
        "# TODO: We use placeholder values for hyperparameters - you will need to find better values!\n",
        "optimizer = optim.SGD(nn_model.parameters(), lr=1e-1, weight_decay=0)\n",
        "scheduler = optim.lr_scheduler.StepLR(optimizer, step_size=10, gamma=0.1)\n",
        "train_loader = torch.utils.data.DataLoader(dataset, batch_size=20)\n",
        "\n",
        "loss_history, train_history = train_model(nn_model, dataset, train_loader, optimizer, scheduler, 10)"
      ],
      "execution_count": null,
      "outputs": [
        {
          "output_type": "stream",
          "name": "stdout",
          "text": [
            "Epoch 0, Average loss: 9.882213, Train accuracy: 0.000048\n",
            "Epoch 1, Average loss: 9.881905, Train accuracy: 0.000085\n",
            "Epoch 2, Average loss: 9.881621, Train accuracy: 0.000205\n",
            "Epoch 3, Average loss: 9.881334, Train accuracy: 0.000386\n",
            "Epoch 4, Average loss: 9.880979, Train accuracy: 0.000604\n",
            "Epoch 5, Average loss: 9.880612, Train accuracy: 0.000798\n",
            "Epoch 6, Average loss: 9.880286, Train accuracy: 0.000904\n",
            "Epoch 7, Average loss: 9.879924, Train accuracy: 0.000979\n",
            "Epoch 8, Average loss: 9.879663, Train accuracy: 0.001254\n",
            "Epoch 9, Average loss: 9.879239, Train accuracy: 0.001148\n"
          ]
        }
      ]
    },
    {
      "cell_type": "markdown",
      "metadata": {
        "id": "goEed6dWYe4f"
      },
      "source": [
        "Попробуем заменить SGD на Adam.\n",
        "\n",
        "Будем уменьшать скорость обучения те же 10 эпох, но по 0.3, а не по 0.1.\n",
        "\n",
        "И увеличим размер батча - данных-то много"
      ]
    },
    {
      "cell_type": "code",
      "metadata": {
        "colab": {
          "base_uri": "https://localhost:8080/"
        },
        "id": "KbHXI1KJYe4g",
        "outputId": "7cc0357a-a8fd-4b26-e127-6cca74d48ec6"
      },
      "source": [
        "optimizer = optim.Adam(nn_model.parameters(), lr=1e-1, weight_decay=0)\n",
        "scheduler = optim.lr_scheduler.StepLR(optimizer, step_size=10, gamma=0.3)\n",
        "train_loader = torch.utils.data.DataLoader(dataset, batch_size=64)\n",
        "\n",
        "loss_history, train_history = train_model(nn_model, dataset, train_loader, optimizer, scheduler, 10)"
      ],
      "execution_count": null,
      "outputs": [
        {
          "output_type": "stream",
          "name": "stdout",
          "text": [
            "Epoch 0, Average loss: 14.469772, Train accuracy: 0.000301\n",
            "Epoch 1, Average loss: 19.435905, Train accuracy: 0.000327\n",
            "Epoch 2, Average loss: 18.757669, Train accuracy: 0.000218\n",
            "Epoch 3, Average loss: 17.599211, Train accuracy: 0.000217\n",
            "Epoch 4, Average loss: 16.972878, Train accuracy: 0.000205\n",
            "Epoch 5, Average loss: 16.805307, Train accuracy: 0.000254\n",
            "Epoch 6, Average loss: 16.721191, Train accuracy: 0.000229\n",
            "Epoch 7, Average loss: 16.345486, Train accuracy: 0.000133\n",
            "Epoch 8, Average loss: 16.262068, Train accuracy: 0.000109\n",
            "Epoch 9, Average loss: 16.317696, Train accuracy: 0.000169\n"
          ]
        }
      ]
    },
    {
      "cell_type": "markdown",
      "metadata": {
        "id": "e5c5oWwch_cK"
      },
      "source": [
        "Уменьшим скорость обучения с 1e-1 до 1e-2 и ещё увеличим размер батча.\n",
        "\n",
        "UPD: величим количество эпох до 20"
      ]
    },
    {
      "cell_type": "code",
      "metadata": {
        "colab": {
          "base_uri": "https://localhost:8080/"
        },
        "id": "o1HUszn1h_ym",
        "outputId": "e07f8878-9cd6-4a85-b97a-2157de4b7829"
      },
      "source": [
        "optimizer = optim.Adam(nn_model.parameters(), lr=1e-2, weight_decay=0)\n",
        "scheduler = optim.lr_scheduler.StepLR(optimizer, step_size=10, gamma=0.3)\n",
        "train_loader = torch.utils.data.DataLoader(dataset, batch_size=128)\n",
        "\n",
        "loss_history, train_history = train_model(nn_model, dataset, train_loader, optimizer, scheduler, 20)"
      ],
      "execution_count": null,
      "outputs": [
        {
          "output_type": "stream",
          "name": "stdout",
          "text": [
            "Epoch 0, Average loss: 12.297544, Train accuracy: 0.000302\n",
            "Epoch 1, Average loss: 10.195331, Train accuracy: 0.001585\n",
            "Epoch 2, Average loss: 9.792673, Train accuracy: 0.003153\n",
            "Epoch 3, Average loss: 9.600126, Train accuracy: 0.003847\n",
            "Epoch 4, Average loss: 9.465041, Train accuracy: 0.004932\n",
            "Epoch 5, Average loss: 9.378581, Train accuracy: 0.005375\n",
            "Epoch 6, Average loss: 9.308183, Train accuracy: 0.006291\n",
            "Epoch 7, Average loss: 9.232861, Train accuracy: 0.007415\n",
            "Epoch 8, Average loss: 9.165843, Train accuracy: 0.007507\n",
            "Epoch 9, Average loss: 9.098949, Train accuracy: 0.008519\n",
            "Epoch 10, Average loss: 9.016117, Train accuracy: 0.011372\n",
            "Epoch 11, Average loss: 8.939049, Train accuracy: 0.012889\n",
            "Epoch 12, Average loss: 8.874352, Train accuracy: 0.013572\n",
            "Epoch 13, Average loss: 8.849505, Train accuracy: 0.013392\n",
            "Epoch 14, Average loss: 8.815637, Train accuracy: 0.014006\n",
            "Epoch 15, Average loss: 8.787859, Train accuracy: 0.014077\n",
            "Epoch 16, Average loss: 8.746576, Train accuracy: 0.014376\n",
            "Epoch 17, Average loss: 8.730778, Train accuracy: 0.014762\n",
            "Epoch 18, Average loss: 8.706768, Train accuracy: 0.014870\n",
            "Epoch 19, Average loss: 8.688601, Train accuracy: 0.015676\n"
          ]
        }
      ]
    },
    {
      "cell_type": "markdown",
      "metadata": {
        "id": "sKAywdk_oKsh"
      },
      "source": [
        "Увеличим количество эпох до 50 и уменьшим снижение скорости обучения"
      ]
    },
    {
      "cell_type": "code",
      "metadata": {
        "colab": {
          "base_uri": "https://localhost:8080/"
        },
        "id": "nilOXn7goR2k",
        "outputId": "430e6506-c829-4612-ed34-b22d5503670c"
      },
      "source": [
        "optimizer = optim.Adam(nn_model.parameters(), lr=1e-2, weight_decay=0)\n",
        "scheduler = optim.lr_scheduler.StepLR(optimizer, step_size=10, gamma=0.15)\n",
        "train_loader = torch.utils.data.DataLoader(dataset, batch_size=128)\n",
        "\n",
        "loss_history, train_history = train_model(nn_model, dataset, train_loader, optimizer, scheduler, 50)"
      ],
      "execution_count": null,
      "outputs": [
        {
          "output_type": "stream",
          "name": "stdout",
          "text": [
            "Epoch 0, Average loss: 9.480152, Train accuracy: 0.005068\n",
            "Epoch 1, Average loss: 9.155889, Train accuracy: 0.006710\n",
            "Epoch 2, Average loss: 8.977283, Train accuracy: 0.009178\n",
            "Epoch 3, Average loss: 8.881147, Train accuracy: 0.009704\n",
            "Epoch 4, Average loss: 8.811882, Train accuracy: 0.011432\n",
            "Epoch 5, Average loss: 8.739510, Train accuracy: 0.012923\n",
            "Epoch 6, Average loss: 8.693984, Train accuracy: 0.014217\n",
            "Epoch 7, Average loss: 8.643091, Train accuracy: 0.015193\n",
            "Epoch 8, Average loss: 8.586539, Train accuracy: 0.015714\n",
            "Epoch 9, Average loss: 8.538146, Train accuracy: 0.017415\n",
            "Epoch 10, Average loss: 8.464762, Train accuracy: 0.021798\n",
            "Epoch 11, Average loss: 8.409307, Train accuracy: 0.025956\n",
            "Epoch 12, Average loss: 8.375668, Train accuracy: 0.026406\n",
            "Epoch 13, Average loss: 8.322086, Train accuracy: 0.027951\n",
            "Epoch 14, Average loss: 8.308306, Train accuracy: 0.027917\n",
            "Epoch 15, Average loss: 8.284195, Train accuracy: 0.028112\n",
            "Epoch 16, Average loss: 8.261391, Train accuracy: 0.028560\n",
            "Epoch 17, Average loss: 8.253363, Train accuracy: 0.029406\n",
            "Epoch 18, Average loss: 8.239452, Train accuracy: 0.028297\n",
            "Epoch 19, Average loss: 8.222807, Train accuracy: 0.029122\n",
            "Epoch 20, Average loss: 8.223315, Train accuracy: 0.029459\n",
            "Epoch 21, Average loss: 8.204934, Train accuracy: 0.029943\n",
            "Epoch 22, Average loss: 8.197110, Train accuracy: 0.030744\n",
            "Epoch 23, Average loss: 8.213243, Train accuracy: 0.031173\n",
            "Epoch 24, Average loss: 8.219561, Train accuracy: 0.029993\n",
            "Epoch 25, Average loss: 8.205051, Train accuracy: 0.030192\n",
            "Epoch 26, Average loss: 8.196651, Train accuracy: 0.030592\n",
            "Epoch 27, Average loss: 8.212710, Train accuracy: 0.029755\n",
            "Epoch 28, Average loss: 8.205671, Train accuracy: 0.030993\n",
            "Epoch 29, Average loss: 8.194152, Train accuracy: 0.031004\n",
            "Epoch 30, Average loss: 8.200475, Train accuracy: 0.030623\n",
            "Epoch 31, Average loss: 8.198155, Train accuracy: 0.031196\n",
            "Epoch 32, Average loss: 8.184826, Train accuracy: 0.031379\n",
            "Epoch 33, Average loss: 8.201288, Train accuracy: 0.030785\n",
            "Epoch 34, Average loss: 8.183708, Train accuracy: 0.032666\n",
            "Epoch 35, Average loss: 8.193718, Train accuracy: 0.030720\n",
            "Epoch 36, Average loss: 8.182341, Train accuracy: 0.031504\n",
            "Epoch 37, Average loss: 8.196845, Train accuracy: 0.030304\n",
            "Epoch 38, Average loss: 8.169741, Train accuracy: 0.031756\n",
            "Epoch 39, Average loss: 8.192924, Train accuracy: 0.031465\n",
            "Epoch 40, Average loss: 8.198659, Train accuracy: 0.030183\n",
            "Epoch 41, Average loss: 8.181758, Train accuracy: 0.031937\n",
            "Epoch 42, Average loss: 8.178102, Train accuracy: 0.031344\n",
            "Epoch 43, Average loss: 8.173168, Train accuracy: 0.032003\n",
            "Epoch 44, Average loss: 8.180832, Train accuracy: 0.031513\n",
            "Epoch 45, Average loss: 8.164121, Train accuracy: 0.032002\n",
            "Epoch 46, Average loss: 8.186692, Train accuracy: 0.030304\n",
            "Epoch 47, Average loss: 8.190967, Train accuracy: 0.031156\n",
            "Epoch 48, Average loss: 8.177069, Train accuracy: 0.031135\n",
            "Epoch 49, Average loss: 8.168910, Train accuracy: 0.031021\n"
          ]
        }
      ]
    },
    {
      "cell_type": "code",
      "metadata": {
        "id": "kFmAz_AbYe4g",
        "colab": {
          "base_uri": "https://localhost:8080/",
          "height": 283
        },
        "outputId": "744a8e03-7257-47b8-9339-310d3ab14b73"
      },
      "source": [
        "# Visualize training graphs\n",
        "plt.subplot(211)\n",
        "plt.plot(train_history)\n",
        "plt.subplot(212)\n",
        "plt.plot(loss_history)"
      ],
      "execution_count": null,
      "outputs": [
        {
          "output_type": "execute_result",
          "data": {
            "text/plain": [
              "[<matplotlib.lines.Line2D at 0x7f505fd65c50>]"
            ]
          },
          "metadata": {},
          "execution_count": 70
        },
        {
          "output_type": "display_data",
          "data": {
            "image/png": "[encoded data removed]",
            "text/plain": [
              "<Figure size 432x288 with 2 Axes>"
            ]
          },
          "metadata": {
            "needs_background": "light"
          }
        }
      ]
    },
    {
      "cell_type": "markdown",
      "metadata": {
        "id": "laDTf095Ye4h"
      },
      "source": [
        "# Визуализируем вектора для разного вида слов до и после тренировки\n",
        "\n",
        "В случае успешной тренировки вы должны увидеть как вектора слов разных типов (например, знаков препинания, предлогов и остальных) разделяются семантически.\n",
        "\n",
        "Студенты - в качестве выполненного задания присылайте notebook с диаграммами!"
      ]
    },
    {
      "cell_type": "code",
      "metadata": {
        "id": "STVypzKEYe4h",
        "colab": {
          "base_uri": "https://localhost:8080/",
          "height": 941
        },
        "outputId": "fbc01803-becf-4334-983d-10de7ad10f7f"
      },
      "source": [
        "trained_input_vectors, trained_output_vectors = extract_word_vectors(nn_model)\n",
        "assert trained_input_vectors.shape == (data.num_tokens(), wordvec_dim)\n",
        "assert trained_output_vectors.shape == (data.num_tokens(), wordvec_dim)\n",
        "\n",
        "def visualize_vectors(input_vectors, output_vectors, title=''):\n",
        "    full_vectors = torch.cat((input_vectors, output_vectors), 0)\n",
        "    wordvec_embedding = PCA(n_components=2).fit_transform(full_vectors)\n",
        "\n",
        "    # Helpful words form CS244D example\n",
        "    # http://cs224d.stanford.edu/assignment1/index.html\n",
        "    visualize_words = {'green': [\"the\", \"a\", \"an\"], \n",
        "                      'blue': [\",\", \".\", \"?\", \"!\", \"``\", \"''\", \"--\"], \n",
        "                      'brown': [\"good\", \"great\", \"cool\", \"brilliant\", \"wonderful\", \n",
        "                              \"well\", \"amazing\", \"worth\", \"sweet\", \"enjoyable\"],\n",
        "                      'orange': [\"boring\", \"bad\", \"waste\", \"dumb\", \"annoying\", \"stupid\"],\n",
        "                      'red': ['tell', 'told', 'said', 'say', 'says', 'tells', 'goes', 'go', 'went']\n",
        "                     }\n",
        "\n",
        "    plt.figure(figsize=(7,7))\n",
        "    plt.suptitle(title)\n",
        "    for color, words in visualize_words.items():\n",
        "        points = np.array([wordvec_embedding[data.index_by_token[w]] for w in words])\n",
        "        for i, word in enumerate(words):\n",
        "            plt.text(points[i, 0], points[i, 1], word, color=color,horizontalalignment='center')\n",
        "        plt.scatter(points[:, 0], points[:, 1], c=color, alpha=0.3, s=0.5)\n",
        "\n",
        "visualize_vectors(untrained_input_vectors, untrained_output_vectors, \"Untrained word vectors\")\n",
        "visualize_vectors(trained_input_vectors, trained_output_vectors, \"Trained word vectors\")"
      ],
      "execution_count": null,
      "outputs": [
        {
          "output_type": "display_data",
          "data": {
            "image/png": "[encoded data removed]",
            "text/plain": [
              "<Figure size 504x504 with 1 Axes>"
            ]
          },
          "metadata": {
            "needs_background": "light"
          }
        },
        {
          "output_type": "display_data",
          "data": {
            "image/png": "[encoded data removed]",
            "text/plain": [
              "<Figure size 504x504 with 1 Axes>"
            ]
          },
          "metadata": {
            "needs_background": "light"
          }
        }
      ]
    },
    {
      "cell_type": "code",
      "metadata": {
        "id": "m_Rv4iDkYe4i"
      },
      "source": [
        ""
      ],
      "execution_count": null,
      "outputs": []
    }
  ]
}